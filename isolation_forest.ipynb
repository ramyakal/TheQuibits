{
 "cells": [
  {
   "cell_type": "code",
   "execution_count": 65,
   "metadata": {
    "id": "YC_ANB5NUbzf"
   },
   "outputs": [],
   "source": [
    "import numpy as np\n",
    "import pandas as pd\n",
    "pd.set_option('display.max_columns',None)\n",
    "# from sklearn.model_selection import train_test_split"
   ]
  },
  {
   "cell_type": "code",
   "execution_count": 66,
   "metadata": {},
   "outputs": [],
   "source": [
    "import os\n",
    "path='D:\\Python\\TheQuibits\\Zero-shield-main\\Zero-shield-main_main - Copy\\ml_models\\Datasets\\CICIDS'\n",
    "os.chdir(path)"
   ]
  },
  {
   "cell_type": "code",
   "execution_count": 67,
   "metadata": {
    "id": "S4Q2CQ0yUgbG"
   },
   "outputs": [],
   "source": [
    "df1 = pd.read_csv('Friday-WorkingHours-Afternoon-DDos.pcap_ISCX.csv')\n",
    "df2 = pd.read_csv('Friday-WorkingHours-Afternoon-PortScan.pcap_ISCX.csv')\n",
    "df3 = pd.read_csv('Friday-WorkingHours-Morning.pcap_ISCX.csv')\n",
    "df4 = pd.read_csv('Monday-WorkingHours.pcap_ISCX.csv')\n",
    "df5 = pd.read_csv('Thursday-WorkingHours-Afternoon-Infilteration.pcap_ISCX.csv')\n",
    "df6 = pd.read_csv('Thursday-WorkingHours-Morning-WebAttacks.pcap_ISCX.csv')\n",
    "df7 = pd.read_csv('Tuesday-WorkingHours.pcap_ISCX.csv')\n",
    "df8 = pd.read_csv('Wednesday-workingHours.pcap_ISCX.csv')"
   ]
  },
  {
   "cell_type": "code",
   "execution_count": 68,
   "metadata": {
    "colab": {
     "base_uri": "https://localhost:8080/"
    },
    "id": "2rCvecD1VMlP",
    "outputId": "d2dcc526-b949-4d56-dc60-ff7999bb8ad6"
   },
   "outputs": [
    {
     "data": {
      "text/plain": [
       "(2830743, 79)"
      ]
     },
     "execution_count": 68,
     "metadata": {},
     "output_type": "execute_result"
    }
   ],
   "source": [
    "df = pd.concat([df1,df2])\n",
    "# del df1,df2\n",
    "df = pd.concat([df,df3])\n",
    "# del df3\n",
    "df = pd.concat([df,df4])\n",
    "# del df4\n",
    "df = pd.concat([df,df5])\n",
    "# del df5/\n",
    "df = pd.concat([df,df6])\n",
    "# del df6\n",
    "df = pd.concat([df,df7])\n",
    "# del df7\n",
    "df = pd.concat([df,df8])\n",
    "# del df8\n",
    "df.shape"
   ]
  },
  {
   "cell_type": "code",
   "execution_count": 69,
   "metadata": {
    "colab": {
     "base_uri": "https://localhost:8080/"
    },
    "id": "izc02FkHVqOq",
    "outputId": "db4aa129-7927-496a-9ad4-ceb43d8d067c"
   },
   "outputs": [
    {
     "name": "stdout",
     "output_type": "stream",
     "text": [
      "(2830743, 79)\n",
      "(2522362, 79)\n"
     ]
    }
   ],
   "source": [
    "print(df.shape)\n",
    "df =  df.drop_duplicates(keep=\"first\")\n",
    "print(df.shape)"
   ]
  },
  {
   "cell_type": "code",
   "execution_count": 70,
   "metadata": {
    "colab": {
     "base_uri": "https://localhost:8080/"
    },
    "id": "sBDCsHNrXgWG",
    "outputId": "781b8278-5e0f-4480-f9a4-ec062619cf01"
   },
   "outputs": [
    {
     "name": "stderr",
     "output_type": "stream",
     "text": [
      "C:\\Users\\HP\\AppData\\Local\\Temp\\ipykernel_24072\\789146936.py:1: FutureWarning: In a future version of pandas all arguments of DataFrame.any and Series.any will be keyword-only.\n",
      "  df = df[~df.isin([np.nan, np.inf, -np.inf]).any(1)]\n"
     ]
    },
    {
     "data": {
      "text/plain": [
       "(2520798, 79)"
      ]
     },
     "execution_count": 70,
     "metadata": {},
     "output_type": "execute_result"
    }
   ],
   "source": [
    "df = df[~df.isin([np.nan, np.inf, -np.inf]).any(1)]\n",
    "df.shape"
   ]
  },
  {
   "cell_type": "code",
   "execution_count": 71,
   "metadata": {
    "id": "8LrJcDVaZU5m"
   },
   "outputs": [],
   "source": [
    "colsfromindex = [' Subflow Bwd Bytes',' ECE Flag Count',' Fwd URG Flags',' Active Max','Init_Win_bytes_forward',' act_data_pkt_fwd',' Bwd Header Length',' min_seg_size_forward',' Fwd Header Length']"
   ]
  },
  {
   "cell_type": "code",
   "execution_count": 72,
   "metadata": {
    "colab": {
     "base_uri": "https://localhost:8080/"
    },
    "id": "bIwCoinCaHGN",
    "outputId": "729e6783-7518-4366-cda5-3c78d97cfad9"
   },
   "outputs": [
    {
     "name": "stdout",
     "output_type": "stream",
     "text": [
      "(2520798, 79)\n",
      "(2520798, 70)\n"
     ]
    }
   ],
   "source": [
    "print(df.shape)\n",
    "df.drop(colsfromindex, axis=1, inplace=True)\n",
    "print(df.shape)"
   ]
  },
  {
   "cell_type": "markdown",
   "metadata": {
    "id": "OFLnVfPYaVZt"
   },
   "source": [
    "SPLITTING"
   ]
  },
  {
   "cell_type": "code",
   "execution_count": 73,
   "metadata": {
    "colab": {
     "base_uri": "https://localhost:8080/"
    },
    "id": "QRj57sWVaJjG",
    "outputId": "6254ea67-4711-4d74-cef2-13cea4146290"
   },
   "outputs": [
    {
     "data": {
      "text/plain": [
       "BENIGN                        2095057\n",
       "DoS Hulk                       172846\n",
       "DDoS                           128014\n",
       "PortScan                        90694\n",
       "DoS GoldenEye                   10286\n",
       "FTP-Patator                      5931\n",
       "DoS slowloris                    5385\n",
       "DoS Slowhttptest                 5228\n",
       "SSH-Patator                      3219\n",
       "Bot                              1948\n",
       "Web Attack � Brute Force         1470\n",
       "Web Attack � XSS                  652\n",
       "Infiltration                       36\n",
       "Web Attack � Sql Injection         21\n",
       "Heartbleed                         11\n",
       "Name:  Label, dtype: int64"
      ]
     },
     "execution_count": 73,
     "metadata": {},
     "output_type": "execute_result"
    }
   ],
   "source": [
    "df[\" Label\"].value_counts()"
   ]
  },
  {
   "cell_type": "code",
   "execution_count": 74,
   "metadata": {
    "id": "RlFBypUHadis"
   },
   "outputs": [],
   "source": [
    "dos_hulk = df[df[' Label'] == 'DoS Hulk']\n",
    "ddos = df[df[' Label'] == 'DDoS']\n",
    "dos_goldeneye = df[df[' Label'] == 'DoS GoldenEye']\n",
    "ftp_patator = df[df[' Label'] == 'FTP-Patator']\n",
    "dos_slowloris = df[df[' Label'] == 'DoS slowloris']\n",
    "dos_slowhttptest = df[df[' Label'] == 'DoS Slowhttptest']\n",
    "ssh_patator = df[df[' Label'] == 'SSH-Patator']\n",
    "bot = df[df[' Label'] == 'Bot']\n",
    "webattack_bruteforce = df[df[' Label'] == 'Web Attack_Brute Force']\n",
    "webattack_xss = df[df[' Label'] == 'Web Attack � XSS']\n",
    "infiltration = df[df[' Label'] == 'Infiltration']\n",
    "webattack_sqlinjection = df[df[' Label'] == 'Web Attack � Sql Injection']\n",
    "heartbleed = df[df[' Label'] == 'Heartbleed']"
   ]
  },
  {
   "cell_type": "code",
   "execution_count": 75,
   "metadata": {
    "colab": {
     "base_uri": "https://localhost:8080/"
    },
    "id": "2-G5KFd8ahLB",
    "outputId": "92fa65ea-3859-4780-ba2a-dff846480f58"
   },
   "outputs": [
    {
     "name": "stdout",
     "output_type": "stream",
     "text": [
      "dos_hulk: (172846, 69)\n",
      "ddos: (128014, 69)\n",
      "dos_goldeneye: (10286, 69)\n",
      "ftp_patator: (5931, 69)\n",
      "dos_slowloris: (5385, 69)\n",
      "dos_slowhttptest (5228, 69)\n",
      "ssh_patator: (3219, 69)\n",
      "bot: (1948, 69)\n",
      "webattack_bruteforce: (0, 69)\n",
      "webattack_xss: (652, 69)\n",
      "infiltration: (36, 69)\n",
      "webattack_sqlinjection: (21, 69)\n",
      "heartbleed: (11, 69)\n"
     ]
    }
   ],
   "source": [
    "dos_hulk = dos_hulk.iloc[:, :-1]\n",
    "print(\"dos_hulk:\",dos_hulk.shape)\n",
    "ddos = ddos.iloc[:, :-1]\n",
    "print(\"ddos:\",ddos.shape)\n",
    "dos_goldeneye = dos_goldeneye.iloc[:, :-1]\n",
    "print('dos_goldeneye:',dos_goldeneye.shape)\n",
    "ftp_patator = ftp_patator.iloc[:, :-1]\n",
    "print('ftp_patator:',ftp_patator.shape)\n",
    "dos_slowloris = dos_slowloris.iloc[:, :-1]\n",
    "print('dos_slowloris:',dos_slowloris.shape)\n",
    "dos_slowhttptest = dos_slowhttptest.iloc[:, :-1]\n",
    "print('dos_slowhttptest',dos_slowhttptest.shape)\n",
    "ssh_patator = ssh_patator.iloc[:, :-1]\n",
    "print('ssh_patator:',ssh_patator.shape)\n",
    "bot = bot.iloc[:, :-1]\n",
    "print('bot:',bot.shape)\n",
    "webattack_bruteforce = webattack_bruteforce.iloc[:, :-1]\n",
    "print('webattack_bruteforce:',webattack_bruteforce.shape)\n",
    "webattack_xss = webattack_xss.iloc[:, :-1]\n",
    "print('webattack_xss:',webattack_xss.shape)\n",
    "infiltration = infiltration.iloc[:, :-1]\n",
    "print('infiltration:',infiltration.shape)\n",
    "webattack_sqlinjection = webattack_sqlinjection.iloc[:, :-1]\n",
    "print('webattack_sqlinjection:',webattack_sqlinjection.shape)\n",
    "heartbleed = heartbleed.iloc[:, :-1]\n",
    "print(\"heartbleed:\",heartbleed.shape)"
   ]
  },
  {
   "cell_type": "code",
   "execution_count": 76,
   "metadata": {
    "id": "ziaCRxLsaxpn"
   },
   "outputs": [],
   "source": [
    "classes = [dos_hulk, ddos, dos_goldeneye, ftp_patator, dos_slowloris, dos_slowhttptest, ssh_patator, bot, webattack_bruteforce, webattack_xss, infiltration, webattack_sqlinjection, heartbleed]"
   ]
  },
  {
   "cell_type": "markdown",
   "metadata": {
    "id": "vg9RF1w3a58I"
   },
   "source": [
    "Creating models\n"
   ]
  },
  {
   "cell_type": "code",
   "execution_count": 77,
   "metadata": {
    "id": "EIiUUioabV7N"
   },
   "outputs": [],
   "source": [
    "import numpy as np\n",
    "import pandas as pd\n",
    "import seaborn as sns\n",
    "from sklearn.ensemble import IsolationForest"
   ]
  },
  {
   "cell_type": "markdown",
   "metadata": {
    "id": "I5qHTJyZBTeh"
   },
   "source": [
    "# DOS_HULK\n"
   ]
  },
  {
   "cell_type": "code",
   "execution_count": 78,
   "metadata": {
    "colab": {
     "base_uri": "https://localhost:8080/"
    },
    "id": "wsGsdznla3ij",
    "outputId": "466fed25-032e-40d3-b918-0d4e4c4c05c6"
   },
   "outputs": [
    {
     "name": "stdout",
     "output_type": "stream",
     "text": [
      "{'bootstrap': False, 'contamination': 0.02, 'max_features': 1.0, 'max_samples': 0.5, 'n_estimators': 200, 'n_jobs': None, 'random_state': RandomState(MT19937) at 0x223A2959240, 'verbose': 0, 'warm_start': False}\n"
     ]
    }
   ],
   "source": [
    "random_state = np.random.RandomState(42)\n",
    "ddoshulk_model=IsolationForest(n_estimators=200,max_samples=0.5,contamination=0.02,random_state=random_state)\n",
    "\n",
    "ddoshulk_model.fit(dos_hulk)\n",
    "\n",
    "print(ddoshulk_model.get_params())"
   ]
  },
  {
   "cell_type": "code",
   "execution_count": 80,
   "metadata": {
    "colab": {
     "base_uri": "https://localhost:8080/"
    },
    "id": "hb0e2RIZcD6j",
    "outputId": "66ea0ada-48f4-4b1b-8cce-edf05dc659bb"
   },
   "outputs": [
    {
     "name": "stdout",
     "output_type": "stream",
     "text": [
      "dos_hulk (172846, 69) 169389\n",
      "other:\n"
     ]
    }
   ],
   "source": [
    "is_in_class = ddoshulk_model.predict(dos_hulk)\n",
    "print('dos_hulk',dos_hulk.shape,list(is_in_class).count(1))\n",
    "print(\"other:\")\n",
    "#for i in classes:\n",
    "  #is_in_class = ddoshulk_model.predict(i)\n",
    "  #print(i.shape,list(is_in_class).count(1))"
   ]
  },
  {
   "cell_type": "markdown",
   "metadata": {
    "id": "w--9a_N8Ba1j"
   },
   "source": [
    "# Infiltration"
   ]
  },
  {
   "cell_type": "code",
   "execution_count": 81,
   "metadata": {
    "colab": {
     "base_uri": "https://localhost:8080/"
    },
    "id": "t4WCH2nucvyp",
    "outputId": "312a4fba-6a70-4e07-8520-97a97ba34c57"
   },
   "outputs": [
    {
     "name": "stdout",
     "output_type": "stream",
     "text": [
      "{'bootstrap': False, 'contamination': 0.28, 'max_features': 1.0, 'max_samples': 'auto', 'n_estimators': 50, 'n_jobs': None, 'random_state': RandomState(MT19937) at 0x22435F9D340, 'verbose': 0, 'warm_start': False}\n"
     ]
    }
   ],
   "source": [
    "\n",
    "random_state = np.random.RandomState(42)\n",
    "infiltration_model=IsolationForest(n_estimators=50,max_samples='auto',contamination=0.28,random_state=random_state)\n",
    "\n",
    "infiltration_model.fit(infiltration)\n",
    "\n",
    "print(infiltration_model.get_params())"
   ]
  },
  {
   "cell_type": "code",
   "execution_count": 87,
   "metadata": {
    "colab": {
     "base_uri": "https://localhost:8080/"
    },
    "id": "BP05SBVt350J",
    "outputId": "ed5468ca-865f-4a8f-cd88-d42c7cc93889"
   },
   "outputs": [
    {
     "name": "stdout",
     "output_type": "stream",
     "text": [
      "infiltration (36, 69) 26\n",
      "other:\n"
     ]
    }
   ],
   "source": [
    "is_in_class = infiltration_model.predict(infiltration)\n",
    "print('infiltration',infiltration.shape,list(is_in_class).count(1))\n",
    "print(\"other:\")\n",
    "#for i in classes:\n",
    "  #is_in_class = infiltration_model.predict(i)\n",
    "  #print(i.shape,list(is_in_class).count(1))"
   ]
  },
  {
   "cell_type": "markdown",
   "metadata": {
    "id": "q3cRPjG2BpL3"
   },
   "source": [
    "## FTP- PATATOR"
   ]
  },
  {
   "cell_type": "code",
   "execution_count": 88,
   "metadata": {
    "colab": {
     "base_uri": "https://localhost:8080/"
    },
    "id": "MH1InrRC4TGD",
    "outputId": "4ac79ad2-109f-4022-b9ce-032622e24f2b"
   },
   "outputs": [
    {
     "name": "stdout",
     "output_type": "stream",
     "text": [
      "{'bootstrap': False, 'contamination': 0.02, 'max_features': 1.0, 'max_samples': 0.5, 'n_estimators': 200, 'n_jobs': None, 'random_state': RandomState(MT19937) at 0x22435F9E140, 'verbose': 0, 'warm_start': False}\n"
     ]
    }
   ],
   "source": [
    "random_state = np.random.RandomState(42)\n",
    "ftp_patator_model=IsolationForest(n_estimators=200,max_samples=0.5,contamination=0.02,random_state=random_state)\n",
    "\n",
    "ftp_patator_model.fit(ftp_patator)\n",
    "\n",
    "print(ftp_patator_model.get_params())"
   ]
  },
  {
   "cell_type": "code",
   "execution_count": 89,
   "metadata": {
    "colab": {
     "base_uri": "https://localhost:8080/"
    },
    "id": "Yw0kryU2B99U",
    "outputId": "1d7d034e-a87f-46d5-c945-d9e679981a1b"
   },
   "outputs": [
    {
     "name": "stdout",
     "output_type": "stream",
     "text": [
      "ftp_patator (5931, 69) 5812\n"
     ]
    }
   ],
   "source": [
    "is_in_class = ftp_patator_model.predict(ftp_patator)\n",
    "print('ftp_patator',ftp_patator.shape,list(is_in_class).count(1))\n",
    "#print(\"other:\")\n",
    "#for i in classes:\n",
    "  #is_in_class = ftp_patator_model.predict(i)\n",
    "  #print(i.shape,list(is_in_class).count(1))"
   ]
  },
  {
   "cell_type": "markdown",
   "metadata": {
    "id": "jzLP4RlDGl8s"
   },
   "source": [
    "# DDOS"
   ]
  },
  {
   "cell_type": "code",
   "execution_count": 90,
   "metadata": {
    "colab": {
     "base_uri": "https://localhost:8080/"
    },
    "id": "L_iOKJuFGixY",
    "outputId": "8bdf5763-86cd-4b18-f631-8dbc11e890e2"
   },
   "outputs": [
    {
     "name": "stdout",
     "output_type": "stream",
     "text": [
      "{'bootstrap': False, 'contamination': 0.03, 'max_features': 1.0, 'max_samples': 0.5, 'n_estimators': 200, 'n_jobs': None, 'random_state': RandomState(MT19937) at 0x2238ACC3540, 'verbose': 0, 'warm_start': False}\n"
     ]
    }
   ],
   "source": [
    "random_state = np.random.RandomState(42)\n",
    "ddos_model=IsolationForest(n_estimators=200,max_samples=0.5,contamination=0.03,random_state=random_state)\n",
    "\n",
    "ddos_model.fit(ddos)\n",
    "\n",
    "print(ddos_model.get_params())"
   ]
  },
  {
   "cell_type": "code",
   "execution_count": 91,
   "metadata": {
    "colab": {
     "base_uri": "https://localhost:8080/"
    },
    "id": "5RgBtLluGjgb",
    "outputId": "9c440ced-2f15-4313-c794-c836a1eaedba"
   },
   "outputs": [
    {
     "name": "stdout",
     "output_type": "stream",
     "text": [
      "ddos (128014, 69) 124173\n"
     ]
    }
   ],
   "source": [
    "is_in_class = ddos_model.predict(ddos)\n",
    "print('ddos',ddos.shape,list(is_in_class).count(1))\n",
    "#print(\"other:\")\n",
    "#for i in classes:\n",
    "  #is_in_class = ddos_model.predict(i)\n",
    "  #print(i.shape,list(is_in_class).count(1))"
   ]
  },
  {
   "cell_type": "markdown",
   "metadata": {
    "id": "v2bKJfXPJk-D"
   },
   "source": [
    "# dos_goldeneye"
   ]
  },
  {
   "cell_type": "code",
   "execution_count": 92,
   "metadata": {
    "colab": {
     "base_uri": "https://localhost:8080/"
    },
    "id": "5e3ZgdY9Gj33",
    "outputId": "8dadf501-c123-4236-83c0-056f7bb163fd"
   },
   "outputs": [
    {
     "name": "stdout",
     "output_type": "stream",
     "text": [
      "{'bootstrap': False, 'contamination': 0.065, 'max_features': 1.0, 'max_samples': 0.6, 'n_estimators': 100, 'n_jobs': None, 'random_state': RandomState(MT19937) at 0x2238ACC3A40, 'verbose': 0, 'warm_start': False}\n"
     ]
    }
   ],
   "source": [
    "random_state = np.random.RandomState(42)\n",
    "dos_goldeneye_model=IsolationForest(n_estimators=100,max_samples=0.6,contamination=0.065,random_state=random_state)\n",
    "\n",
    "dos_goldeneye_model.fit(dos_goldeneye)\n",
    "\n",
    "print(dos_goldeneye_model.get_params())"
   ]
  },
  {
   "cell_type": "code",
   "execution_count": 93,
   "metadata": {
    "colab": {
     "base_uri": "https://localhost:8080/"
    },
    "id": "m8NRMqJkGkUi",
    "outputId": "35340278-9d34-43b0-81bd-990d399bf786"
   },
   "outputs": [
    {
     "name": "stdout",
     "output_type": "stream",
     "text": [
      "dos_goldeneye (10286, 69) 9617\n"
     ]
    }
   ],
   "source": [
    "is_in_class = dos_goldeneye_model.predict(dos_goldeneye)\n",
    "print('dos_goldeneye',dos_goldeneye.shape,list(is_in_class).count(1))\n",
    "#print(\"other:\")\n",
    "#for i in classes:\n",
    "  #is_in_class = dos_goldeneye_model.predict(i)\n",
    "  #print(i.shape,list(is_in_class).count(1))"
   ]
  },
  {
   "cell_type": "markdown",
   "metadata": {
    "id": "KrI8qbs-OF31"
   },
   "source": [
    "# dos_slowloris"
   ]
  },
  {
   "cell_type": "code",
   "execution_count": 94,
   "metadata": {
    "colab": {
     "base_uri": "https://localhost:8080/"
    },
    "id": "CoHrYK_wODnW",
    "outputId": "99112d2f-0318-4971-d9dd-7a538077d897"
   },
   "outputs": [
    {
     "name": "stdout",
     "output_type": "stream",
     "text": [
      "{'bootstrap': False, 'contamination': 0.161, 'max_features': 1.0, 'max_samples': 0.6, 'n_estimators': 100, 'n_jobs': None, 'random_state': RandomState(MT19937) at 0x2238ACC3B40, 'verbose': 0, 'warm_start': False}\n"
     ]
    }
   ],
   "source": [
    "random_state = np.random.RandomState(42)\n",
    "dos_slowloris_model=IsolationForest(n_estimators=100,max_samples=0.6,contamination=0.161,random_state=random_state)\n",
    "\n",
    "dos_slowloris_model.fit(dos_slowloris)\n",
    "\n",
    "print(dos_slowloris_model.get_params())"
   ]
  },
  {
   "cell_type": "code",
   "execution_count": 95,
   "metadata": {
    "colab": {
     "base_uri": "https://localhost:8080/"
    },
    "id": "yMt14KCzOD8Y",
    "outputId": "3a013cce-55e1-4a5b-933e-48935b4c57a5"
   },
   "outputs": [
    {
     "name": "stdout",
     "output_type": "stream",
     "text": [
      "dos_slowloris (5385, 69) 4518\n"
     ]
    }
   ],
   "source": [
    "\n",
    "is_in_class = dos_slowloris_model.predict(dos_slowloris)\n",
    "print('dos_slowloris',dos_slowloris.shape,list(is_in_class).count(1))\n",
    "#print(\"other:\")\n",
    "#for i in classes:\n",
    "  #is_in_class = dos_slowloris_model.predict(i)\n",
    "  #print(i.shape,list(is_in_class).count(1))"
   ]
  },
  {
   "cell_type": "markdown",
   "metadata": {
    "id": "ZN3G06kFbLW9"
   },
   "source": [
    "## dos_slowhttptest"
   ]
  },
  {
   "cell_type": "code",
   "execution_count": 96,
   "metadata": {
    "colab": {
     "base_uri": "https://localhost:8080/"
    },
    "id": "JfVjybhPOEAF",
    "outputId": "9790ec07-0b20-4b73-c2dd-937be891e261"
   },
   "outputs": [
    {
     "name": "stdout",
     "output_type": "stream",
     "text": [
      "{'bootstrap': False, 'contamination': 0.095, 'max_features': 1.0, 'max_samples': 0.6, 'n_estimators': 100, 'n_jobs': None, 'random_state': RandomState(MT19937) at 0x22435F9D540, 'verbose': 0, 'warm_start': False}\n"
     ]
    }
   ],
   "source": [
    "random_state = np.random.RandomState(42)\n",
    "dos_slowhttptest_model=IsolationForest(n_estimators=100,max_samples=0.6,contamination=0.095,random_state=random_state)\n",
    "\n",
    "dos_slowhttptest_model.fit(dos_slowhttptest)\n",
    "\n",
    "print(dos_slowhttptest_model.get_params())"
   ]
  },
  {
   "cell_type": "code",
   "execution_count": 97,
   "metadata": {
    "colab": {
     "base_uri": "https://localhost:8080/"
    },
    "id": "lHY2JKm5OEEK",
    "outputId": "8b81bc2a-c76d-4598-a698-d86ff3bfd444"
   },
   "outputs": [
    {
     "name": "stdout",
     "output_type": "stream",
     "text": [
      "dos_slowhttptest (5228, 69) 497\n"
     ]
    }
   ],
   "source": [
    "is_in_class = dos_slowhttptest_model.predict(dos_slowhttptest)\n",
    "print('dos_slowhttptest',dos_slowhttptest.shape,list(is_in_class).count(-1))\n",
    "#print(\"other:\")\n",
    "#for i in classes:\n",
    "  #is_in_class = dos_slowhttptest_model.predict(i)\n",
    "  #print(i.shape,list(is_in_class).count(-1))"
   ]
  },
  {
   "cell_type": "markdown",
   "metadata": {
    "id": "qltHWe35gIxV"
   },
   "source": [
    "# ssh_patator"
   ]
  },
  {
   "cell_type": "code",
   "execution_count": 98,
   "metadata": {
    "colab": {
     "base_uri": "https://localhost:8080/"
    },
    "id": "6z3zajpGOEHw",
    "outputId": "69cb35a1-4ca4-4b09-df04-44e04c2cee5d"
   },
   "outputs": [
    {
     "name": "stdout",
     "output_type": "stream",
     "text": [
      "{'bootstrap': False, 'contamination': 0.05, 'max_features': 1.0, 'max_samples': 0.6, 'n_estimators': 100, 'n_jobs': None, 'random_state': RandomState(MT19937) at 0x2238ACC3840, 'verbose': 0, 'warm_start': False}\n"
     ]
    }
   ],
   "source": [
    "random_state = np.random.RandomState(42)\n",
    "ssh_patator_model=IsolationForest(n_estimators=100,max_samples=0.6,contamination=0.05,random_state=random_state)\n",
    "\n",
    "ssh_patator_model.fit(ssh_patator)\n",
    "\n",
    "print(ssh_patator_model.get_params())"
   ]
  },
  {
   "cell_type": "code",
   "execution_count": 99,
   "metadata": {
    "colab": {
     "base_uri": "https://localhost:8080/"
    },
    "id": "jn8Ztos4OEMk",
    "outputId": "7f6c95ec-96d9-44a2-e3eb-41b5b38325c1"
   },
   "outputs": [
    {
     "name": "stdout",
     "output_type": "stream",
     "text": [
      "ssh_patator (3219, 69) 161\n"
     ]
    }
   ],
   "source": [
    "is_in_class = ssh_patator_model.predict(ssh_patator)\n",
    "print('ssh_patator',ssh_patator.shape,list(is_in_class).count(-1))\n",
    "#print(\"other:\")\n",
    "#for i in classes:\n",
    "  #is_in_class = ssh_patator_model.predict(i)\n",
    "  #print(i.shape,list(is_in_class).count(1))"
   ]
  },
  {
   "cell_type": "markdown",
   "metadata": {
    "id": "YPTfMAoKhsXN"
   },
   "source": [
    "# bot"
   ]
  },
  {
   "cell_type": "code",
   "execution_count": 100,
   "metadata": {
    "colab": {
     "base_uri": "https://localhost:8080/"
    },
    "id": "hkIlR9kZOEQa",
    "outputId": "ac28bb62-f424-46f9-dbbd-ee12c120baad"
   },
   "outputs": [
    {
     "name": "stdout",
     "output_type": "stream",
     "text": [
      "{'bootstrap': False, 'contamination': 0.04, 'max_features': 1.0, 'max_samples': 0.6, 'n_estimators': 100, 'n_jobs': None, 'random_state': RandomState(MT19937) at 0x22435F9DD40, 'verbose': 0, 'warm_start': False}\n"
     ]
    }
   ],
   "source": [
    "random_state = np.random.RandomState(42)\n",
    "bot_model=IsolationForest(n_estimators=100,max_samples=0.6,contamination=0.04,random_state=random_state)\n",
    "\n",
    "bot_model.fit(bot)\n",
    "\n",
    "print(bot_model.get_params())"
   ]
  },
  {
   "cell_type": "code",
   "execution_count": 101,
   "metadata": {
    "colab": {
     "base_uri": "https://localhost:8080/"
    },
    "id": "uEsKUtUjhqRc",
    "outputId": "2fd86b37-255e-4ec7-cb06-620b40e10e43"
   },
   "outputs": [
    {
     "name": "stdout",
     "output_type": "stream",
     "text": [
      "bot (1948, 69) 78\n",
      "other:\n"
     ]
    }
   ],
   "source": [
    "is_in_class = bot_model.predict(bot)\n",
    "print('bot',bot.shape,list(is_in_class).count(-1))\n",
    "print(\"other:\")\n",
    "#for i in classes:\n",
    "  #is_in_class = bot_model.predict(i)\n",
    "  #print(i.shape,list(is_in_class).count(1))"
   ]
  },
  {
   "cell_type": "markdown",
   "metadata": {
    "id": "9ILbRaQzkM4H"
   },
   "source": [
    "# webattack_bruteforce"
   ]
  },
  {
   "cell_type": "code",
   "execution_count": 102,
   "metadata": {
    "id": "n9N153nQlxFH"
   },
   "outputs": [],
   "source": [
    "webattack=pd.concat([webattack_bruteforce,webattack_xss,webattack_sqlinjection])"
   ]
  },
  {
   "cell_type": "code",
   "execution_count": 103,
   "metadata": {
    "colab": {
     "base_uri": "https://localhost:8080/"
    },
    "id": "WorCYnrjhqbh",
    "outputId": "3832bf26-93a3-4482-bb39-2abdca2333ab"
   },
   "outputs": [
    {
     "name": "stdout",
     "output_type": "stream",
     "text": [
      "{'bootstrap': False, 'contamination': 0.085, 'max_features': 1.0, 'max_samples': 0.6, 'n_estimators': 100, 'n_jobs': None, 'random_state': RandomState(MT19937) at 0x2238ACC3440, 'verbose': 0, 'warm_start': False}\n"
     ]
    }
   ],
   "source": [
    "random_state = np.random.RandomState(42)\n",
    "webattack_bruteforce_model=IsolationForest(n_estimators=100,max_samples=0.6,contamination=0.085,random_state=random_state)\n",
    "\n",
    "webattack_bruteforce_model.fit(webattack)\n",
    "\n",
    "print(webattack_bruteforce_model.get_params())"
   ]
  },
  {
   "cell_type": "code",
   "execution_count": 104,
   "metadata": {
    "colab": {
     "base_uri": "https://localhost:8080/"
    },
    "id": "apSTWFmmhqlJ",
    "outputId": "76b663f6-8388-4deb-e2c5-df8092ebb2ae"
   },
   "outputs": [
    {
     "name": "stdout",
     "output_type": "stream",
     "text": [
      "webattack_bruteforce (0, 69) 37\n"
     ]
    }
   ],
   "source": [
    "is_in_class = webattack_bruteforce_model.predict(webattack_xss)\n",
    "print('webattack_bruteforce',webattack_bruteforce.shape,list(is_in_class).count(-1))\n",
    "#print(\"other:\")\n",
    "#for i in classes:\n",
    "  #is_in_class = webattack_bruteforce_model.predict(i)\n",
    "  #print(i.shape,list(is_in_class).count(1))"
   ]
  },
  {
   "cell_type": "markdown",
   "metadata": {
    "id": "WL0PLcbboY3M"
   },
   "source": [
    "# webattack_sqlinjection"
   ]
  },
  {
   "cell_type": "code",
   "execution_count": 105,
   "metadata": {
    "colab": {
     "base_uri": "https://localhost:8080/"
    },
    "id": "jqajvmGIoXjo",
    "outputId": "13791b9c-7b73-4e0d-9d9f-095120b81dc3"
   },
   "outputs": [
    {
     "name": "stdout",
     "output_type": "stream",
     "text": [
      "{'bootstrap': False, 'contamination': 0.3, 'max_features': 1.0, 'max_samples': 0.5, 'n_estimators': 50, 'n_jobs': None, 'random_state': RandomState(MT19937) at 0x2238ACC3D40, 'verbose': 0, 'warm_start': False}\n"
     ]
    }
   ],
   "source": [
    "random_state = np.random.RandomState(42)\n",
    "webattack_sqlinjection_model=IsolationForest(n_estimators=50,max_samples=0.5,contamination=0.3,random_state=random_state)\n",
    "\n",
    "webattack_sqlinjection_model.fit(webattack_sqlinjection)\n",
    "\n",
    "print(webattack_sqlinjection_model.get_params())"
   ]
  },
  {
   "cell_type": "code",
   "execution_count": 106,
   "metadata": {
    "colab": {
     "base_uri": "https://localhost:8080/"
    },
    "id": "GiYw1sNOhquf",
    "outputId": "38241caf-cdfe-4c85-b64b-bb6cd9c8ea4c"
   },
   "outputs": [
    {
     "name": "stdout",
     "output_type": "stream",
     "text": [
      "webattack_sqlinjection (21, 69) 6\n"
     ]
    }
   ],
   "source": [
    "is_in_class = webattack_sqlinjection_model.predict(webattack_sqlinjection)\n",
    "print('webattack_sqlinjection',webattack_sqlinjection.shape,list(is_in_class).count(-1))\n",
    "#print(\"other:\")\n",
    "#for i in classes:\n",
    "  #is_in_class = webattack_sqlinjection_model.predict(i)\n",
    "  #print(i.shape,list(is_in_class).count(1))"
   ]
  },
  {
   "cell_type": "code",
   "execution_count": 107,
   "metadata": {},
   "outputs": [],
   "source": [
    "path='D:\\Python\\TheQuibits\\Zero-shield-main\\Zero-shield-main_main - Copy\\ml_models\\saved_models'\n",
    "os.chdir(path)"
   ]
  },
  {
   "cell_type": "code",
   "execution_count": 108,
   "metadata": {
    "id": "juJjqaWuzllN"
   },
   "outputs": [],
   "source": [
    "import pickle\n",
    "with open('webattack_bruteforce_model.pkl', 'wb') as f:\n",
    "    pickle.dump(webattack_bruteforce_model, f)"
   ]
  },
  {
   "cell_type": "code",
   "execution_count": 109,
   "metadata": {
    "id": "RUc1AeVYzl4q"
   },
   "outputs": [],
   "source": [
    "with open('webattack_sqlinjection_model.pkl', 'wb') as f:\n",
    "    pickle.dump(webattack_sqlinjection_model, f)"
   ]
  },
  {
   "cell_type": "code",
   "execution_count": 110,
   "metadata": {
    "id": "E93Sapqy55yy"
   },
   "outputs": [],
   "source": [
    "with open('ddoshulk_model.pkl', 'wb') as f:\n",
    "    pickle.dump(ddoshulk_model, f)"
   ]
  },
  {
   "cell_type": "code",
   "execution_count": 111,
   "metadata": {
    "id": "mzxdsUFv567M"
   },
   "outputs": [],
   "source": [
    "with open('webattack_bruteforce_model.pkl', 'wb') as f:\n",
    "    pickle.dump(webattack_bruteforce_model, f)"
   ]
  },
  {
   "cell_type": "code",
   "execution_count": 112,
   "metadata": {
    "id": "JyDh2bLb57LI"
   },
   "outputs": [],
   "source": [
    "with open('bot_model.pkl', 'wb') as f:\n",
    "    pickle.dump(bot_model, f)"
   ]
  },
  {
   "cell_type": "code",
   "execution_count": 113,
   "metadata": {
    "id": "RMVwUgET57XB"
   },
   "outputs": [],
   "source": [
    "with open('ssh_patator_model.pkl', 'wb') as f:\n",
    "    pickle.dump(ssh_patator_model, f)"
   ]
  },
  {
   "cell_type": "code",
   "execution_count": 114,
   "metadata": {
    "id": "icqMemFQ7H95"
   },
   "outputs": [],
   "source": [
    "with open('dos_slowhttptest_model.pkl', 'wb') as f:\n",
    "    pickle.dump(dos_slowhttptest_model, f)"
   ]
  },
  {
   "cell_type": "code",
   "execution_count": 115,
   "metadata": {
    "id": "I0CCZmPu7IWC"
   },
   "outputs": [],
   "source": [
    "with open('dos_slowloris_model.pkl', 'wb') as f:\n",
    "    pickle.dump(dos_slowloris_model, f)"
   ]
  },
  {
   "cell_type": "code",
   "execution_count": 116,
   "metadata": {
    "id": "1J5Z24nm7Ik5"
   },
   "outputs": [],
   "source": [
    "with open('dos_goldeneye_model.pkl', 'wb') as f:\n",
    "    pickle.dump(dos_goldeneye_model, f)"
   ]
  },
  {
   "cell_type": "code",
   "execution_count": 117,
   "metadata": {
    "id": "x_elUKgL7IyP"
   },
   "outputs": [],
   "source": [
    "with open('FTP- PATATOR_model.pkl', 'wb') as f:\n",
    "    pickle.dump(ftp_patator_model, f)"
   ]
  },
  {
   "cell_type": "code",
   "execution_count": 118,
   "metadata": {
    "id": "x5-3Ykug8Uhk"
   },
   "outputs": [],
   "source": [
    "with open('infiltration_model.pkl', 'wb') as f:\n",
    "    pickle.dump(infiltration_model, f)"
   ]
  },
  {
   "cell_type": "code",
   "execution_count": 119,
   "metadata": {
    "id": "KDQ-PUmX8U3W"
   },
   "outputs": [],
   "source": [
    "with open('ddos_model.pkl', 'wb') as f:\n",
    "    pickle.dump(ddos_model, f)"
   ]
  },
  {
   "cell_type": "code",
   "execution_count": null,
   "metadata": {},
   "outputs": [],
   "source": []
  },
  {
   "cell_type": "code",
   "execution_count": null,
   "metadata": {},
   "outputs": [],
   "source": []
  }
 ],
 "metadata": {
  "accelerator": "GPU",
  "colab": {
   "collapsed_sections": [
    "qltHWe35gIxV",
    "YPTfMAoKhsXN"
   ],
   "gpuType": "T4",
   "provenance": []
  },
  "gpuClass": "standard",
  "kernelspec": {
   "display_name": "Python 3 (ipykernel)",
   "language": "python",
   "name": "python3"
  },
  "language_info": {
   "codemirror_mode": {
    "name": "ipython",
    "version": 3
   },
   "file_extension": ".py",
   "mimetype": "text/x-python",
   "name": "python",
   "nbconvert_exporter": "python",
   "pygments_lexer": "ipython3",
   "version": "3.10.8"
  }
 },
 "nbformat": 4,
 "nbformat_minor": 1
}
