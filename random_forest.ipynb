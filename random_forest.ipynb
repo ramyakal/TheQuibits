{
 "cells": [
  {
   "cell_type": "code",
   "execution_count": 4,
   "metadata": {
    "id": "ha20DXZfK3B_"
   },
   "outputs": [],
   "source": [
    "import numpy as np\n",
    "import pandas as pd\n",
    "pd.set_option('display.max_columns',None)\n",
    "from sklearn.model_selection import train_test_split\n",
    "from sklearn.preprocessing import LabelEncoder"
   ]
  },
  {
   "cell_type": "code",
   "execution_count": 12,
   "metadata": {
    "colab": {
     "base_uri": "https://localhost:8080/"
    },
    "id": "bdYWBDORv6OT",
    "outputId": "3217063d-aec5-4b90-9d09-ea36b015527d"
   },
   "outputs": [],
   "source": [
    "import os\n",
    "path='D:\\Python\\TheQuibits\\Zero-shield-main\\Zero-shield-main_main - Copy\\ml_models\\Datasets\\CICIDS'\n",
    "os.chdir(path)"
   ]
  },
  {
   "cell_type": "code",
   "execution_count": 13,
   "metadata": {
    "id": "kjmiurkcLOaF"
   },
   "outputs": [],
   "source": [
    "df1 = pd.read_csv('Friday-WorkingHours-Afternoon-DDos.pcap_ISCX.csv')\n",
    "df2 = pd.read_csv('Friday-WorkingHours-Afternoon-PortScan.pcap_ISCX.csv')\n",
    "df3 = pd.read_csv('Friday-WorkingHours-Morning.pcap_ISCX.csv')\n",
    "df4 = pd.read_csv('Monday-WorkingHours.pcap_ISCX.csv')\n",
    "df5 = pd.read_csv('Thursday-WorkingHours-Afternoon-Infilteration.pcap_ISCX.csv')\n",
    "df6 = pd.read_csv('Thursday-WorkingHours-Morning-WebAttacks.pcap_ISCX.csv')\n",
    "df7 = pd.read_csv('Tuesday-WorkingHours.pcap_ISCX.csv')\n",
    "df8 = pd.read_csv('Wednesday-workingHours.pcap_ISCX.csv')"
   ]
  },
  {
   "cell_type": "code",
   "execution_count": 14,
   "metadata": {
    "colab": {
     "base_uri": "https://localhost:8080/"
    },
    "id": "S4yASk-OML0L",
    "outputId": "d9d23169-3838-472f-e20c-4a6faa964202"
   },
   "outputs": [
    {
     "data": {
      "text/plain": [
       "(2830743, 79)"
      ]
     },
     "execution_count": 14,
     "metadata": {},
     "output_type": "execute_result"
    }
   ],
   "source": [
    "df = pd.concat([df1,df2])\n",
    "# del df1,df2\n",
    "df = pd.concat([df,df3])\n",
    "# del df3\n",
    "df = pd.concat([df,df4])\n",
    "# del df4\n",
    "df = pd.concat([df,df5])\n",
    "# del df5/\n",
    "df = pd.concat([df,df6])\n",
    "# del df6\n",
    "df = pd.concat([df,df7])\n",
    "# del df7\n",
    "df = pd.concat([df,df8])\n",
    "# del df8\n",
    "df.shape"
   ]
  },
  {
   "cell_type": "code",
   "execution_count": 15,
   "metadata": {
    "colab": {
     "base_uri": "https://localhost:8080/"
    },
    "id": "fnyMU7tSMSoW",
    "outputId": "76771e0e-153f-4744-f070-e2e18160f2b0"
   },
   "outputs": [
    {
     "data": {
      "text/plain": [
       "Index([' Destination Port', ' Flow Duration', ' Total Fwd Packets',\n",
       "       ' Total Backward Packets', 'Total Length of Fwd Packets',\n",
       "       ' Total Length of Bwd Packets', ' Fwd Packet Length Max',\n",
       "       ' Fwd Packet Length Min', ' Fwd Packet Length Mean',\n",
       "       ' Fwd Packet Length Std', 'Bwd Packet Length Max',\n",
       "       ' Bwd Packet Length Min', ' Bwd Packet Length Mean',\n",
       "       ' Bwd Packet Length Std', 'Flow Bytes/s', ' Flow Packets/s',\n",
       "       ' Flow IAT Mean', ' Flow IAT Std', ' Flow IAT Max', ' Flow IAT Min',\n",
       "       'Fwd IAT Total', ' Fwd IAT Mean', ' Fwd IAT Std', ' Fwd IAT Max',\n",
       "       ' Fwd IAT Min', 'Bwd IAT Total', ' Bwd IAT Mean', ' Bwd IAT Std',\n",
       "       ' Bwd IAT Max', ' Bwd IAT Min', 'Fwd PSH Flags', ' Bwd PSH Flags',\n",
       "       ' Fwd URG Flags', ' Bwd URG Flags', ' Fwd Header Length',\n",
       "       ' Bwd Header Length', 'Fwd Packets/s', ' Bwd Packets/s',\n",
       "       ' Min Packet Length', ' Max Packet Length', ' Packet Length Mean',\n",
       "       ' Packet Length Std', ' Packet Length Variance', 'FIN Flag Count',\n",
       "       ' SYN Flag Count', ' RST Flag Count', ' PSH Flag Count',\n",
       "       ' ACK Flag Count', ' URG Flag Count', ' CWE Flag Count',\n",
       "       ' ECE Flag Count', ' Down/Up Ratio', ' Average Packet Size',\n",
       "       ' Avg Fwd Segment Size', ' Avg Bwd Segment Size',\n",
       "       ' Fwd Header Length.1', 'Fwd Avg Bytes/Bulk', ' Fwd Avg Packets/Bulk',\n",
       "       ' Fwd Avg Bulk Rate', ' Bwd Avg Bytes/Bulk', ' Bwd Avg Packets/Bulk',\n",
       "       'Bwd Avg Bulk Rate', 'Subflow Fwd Packets', ' Subflow Fwd Bytes',\n",
       "       ' Subflow Bwd Packets', ' Subflow Bwd Bytes', 'Init_Win_bytes_forward',\n",
       "       ' Init_Win_bytes_backward', ' act_data_pkt_fwd',\n",
       "       ' min_seg_size_forward', 'Active Mean', ' Active Std', ' Active Max',\n",
       "       ' Active Min', 'Idle Mean', ' Idle Std', ' Idle Max', ' Idle Min',\n",
       "       ' Label'],\n",
       "      dtype='object')"
      ]
     },
     "execution_count": 15,
     "metadata": {},
     "output_type": "execute_result"
    }
   ],
   "source": [
    "df.columns"
   ]
  },
  {
   "cell_type": "code",
   "execution_count": 16,
   "metadata": {
    "colab": {
     "base_uri": "https://localhost:8080/"
    },
    "id": "75jH77vYR6pQ",
    "outputId": "e0e24152-d571-4282-a866-6f3d51db04e4"
   },
   "outputs": [
    {
     "data": {
      "text/plain": [
       " Destination Port        0\n",
       " ECE Flag Count          0\n",
       " Fwd Avg Packets/Bulk    0\n",
       "Fwd Avg Bytes/Bulk       0\n",
       " Fwd Header Length.1     0\n",
       "                        ..\n",
       "Bwd IAT Total            0\n",
       " Fwd IAT Min             0\n",
       " Fwd IAT Max             0\n",
       " Fwd IAT Std             0\n",
       " Label                   0\n",
       "Length: 79, dtype: int64"
      ]
     },
     "execution_count": 16,
     "metadata": {},
     "output_type": "execute_result"
    }
   ],
   "source": [
    "df.isnull().sum().sort_values(ascending = False)\n",
    "df.dropna(inplace=True)\n",
    "df.isnull().sum().sort_values(ascending = False)"
   ]
  },
  {
   "cell_type": "code",
   "execution_count": 17,
   "metadata": {
    "colab": {
     "base_uri": "https://localhost:8080/"
    },
    "id": "rjRcaeXDSjPI",
    "outputId": "ed9945ce-d167-4041-acb2-d64ce77d8742"
   },
   "outputs": [
    {
     "data": {
      "text/plain": [
       "['BENIGN',\n",
       " 'DDoS',\n",
       " 'PortScan',\n",
       " 'Bot',\n",
       " 'Infiltration',\n",
       " 'Web Attack � Brute Force',\n",
       " 'Web Attack � XSS',\n",
       " 'Web Attack � Sql Injection',\n",
       " 'FTP-Patator',\n",
       " 'SSH-Patator',\n",
       " 'DoS slowloris',\n",
       " 'DoS Slowhttptest',\n",
       " 'DoS Hulk',\n",
       " 'DoS GoldenEye',\n",
       " 'Heartbleed']"
      ]
     },
     "execution_count": 17,
     "metadata": {},
     "output_type": "execute_result"
    }
   ],
   "source": [
    "originals = list(df[' Label'].unique())\n",
    "originals"
   ]
  },
  {
   "cell_type": "code",
   "execution_count": 18,
   "metadata": {
    "colab": {
     "base_uri": "https://localhost:8080/"
    },
    "id": "7YalRMjpanK1",
    "outputId": "ec89adea-4433-49ba-e27b-9eeafa844e35"
   },
   "outputs": [
    {
     "name": "stdout",
     "output_type": "stream",
     "text": [
      "BENIGN                        2272688\n",
      "DoS Hulk                       230124\n",
      "PortScan                       158930\n",
      "DDoS                           128027\n",
      "DoS GoldenEye                   10293\n",
      "FTP-Patator                      7938\n",
      "SSH-Patator                      5897\n",
      "DoS slowloris                    5796\n",
      "DoS Slowhttptest                 5499\n",
      "Bot                              1966\n",
      "Web Attack � Brute Force         1507\n",
      "Web Attack � XSS                  652\n",
      "Infiltration                       36\n",
      "Web Attack � Sql Injection         21\n",
      "Heartbleed                         11\n",
      "Name:  Label, dtype: int64\n"
     ]
    }
   ],
   "source": [
    "print(df[' Label'].value_counts())"
   ]
  },
  {
   "cell_type": "code",
   "execution_count": 19,
   "metadata": {
    "id": "hwSLF6eDSj84"
   },
   "outputs": [],
   "source": [
    "def targetify(i):\n",
    "    if i == 'BENIGN':\n",
    "        return 0\n",
    "    else:\n",
    "        return 1"
   ]
  },
  {
   "cell_type": "code",
   "execution_count": 20,
   "metadata": {
    "colab": {
     "base_uri": "https://localhost:8080/"
    },
    "id": "JpDnuf1SSj5f",
    "outputId": "91ca1702-6bf6-49c9-b7b0-f0bed80bb66b"
   },
   "outputs": [
    {
     "name": "stdout",
     "output_type": "stream",
     "text": [
      "0    2272688\n",
      "1     556697\n",
      "Name:  Label, dtype: int64\n"
     ]
    }
   ],
   "source": [
    "df[\" Label\"] = df[\" Label\"].apply(targetify)\n",
    "print(df[' Label'].value_counts())\n"
   ]
  },
  {
   "cell_type": "code",
   "execution_count": 21,
   "metadata": {
    "colab": {
     "base_uri": "https://localhost:8080/"
    },
    "id": "M2HBm8t6Sj3L",
    "outputId": "c47440f5-72b3-4010-b365-04d793762a61"
   },
   "outputs": [
    {
     "data": {
      "text/plain": [
       "array([0, 1], dtype=int64)"
      ]
     },
     "execution_count": 21,
     "metadata": {},
     "output_type": "execute_result"
    }
   ],
   "source": [
    "df[' Label'].unique()"
   ]
  },
  {
   "cell_type": "code",
   "execution_count": 22,
   "metadata": {
    "colab": {
     "base_uri": "https://localhost:8080/"
    },
    "id": "awYfe0wzSj0x",
    "outputId": "74df9765-94a6-40a8-8fdd-727ccd28c18a"
   },
   "outputs": [
    {
     "data": {
      "text/plain": [
       "0    2272688\n",
       "1     556697\n",
       "Name:  Label, dtype: int64"
      ]
     },
     "execution_count": 22,
     "metadata": {},
     "output_type": "execute_result"
    }
   ],
   "source": [
    "df[' Label'].value_counts()"
   ]
  },
  {
   "cell_type": "code",
   "execution_count": 23,
   "metadata": {
    "colab": {
     "base_uri": "https://localhost:8080/"
    },
    "id": "GWAtvRA-SjyT",
    "outputId": "1690f49e-2f5c-4be7-eabf-3e4936fc54f6"
   },
   "outputs": [
    {
     "name": "stdout",
     "output_type": "stream",
     "text": [
      "(2829385, 79)\n",
      "(2522009, 79)\n"
     ]
    }
   ],
   "source": [
    "print(df.shape)\n",
    "df=df.drop_duplicates(keep='first')\n",
    "print(df.shape)"
   ]
  },
  {
   "cell_type": "code",
   "execution_count": 24,
   "metadata": {
    "colab": {
     "base_uri": "https://localhost:8080/"
    },
    "id": "R8QRzwtGT78X",
    "outputId": "3f276017-a26c-4d20-fd27-36c5c24e99e9"
   },
   "outputs": [
    {
     "name": "stderr",
     "output_type": "stream",
     "text": [
      "C:\\Users\\HP\\AppData\\Local\\Temp\\ipykernel_15048\\789146936.py:1: FutureWarning: In a future version of pandas all arguments of DataFrame.any and Series.any will be keyword-only.\n",
      "  df = df[~df.isin([np.nan, np.inf, -np.inf]).any(1)]\n"
     ]
    },
    {
     "data": {
      "text/plain": [
       "(2520798, 79)"
      ]
     },
     "execution_count": 24,
     "metadata": {},
     "output_type": "execute_result"
    }
   ],
   "source": [
    "df = df[~df.isin([np.nan, np.inf, -np.inf]).any(1)]\n",
    "df.shape"
   ]
  },
  {
   "cell_type": "code",
   "execution_count": 25,
   "metadata": {
    "colab": {
     "base_uri": "https://localhost:8080/"
    },
    "id": "asIJFbDFT742",
    "outputId": "81b7cd16-93ef-474b-9d27-be4e950f3283"
   },
   "outputs": [
    {
     "name": "stdout",
     "output_type": "stream",
     "text": [
      "[-0.15960255729076697, 0.27900814297274273, -0.0030550685202469117, -0.003175640392710036, -0.015079011552927209, -0.002127195067598197, -0.049019358048620405, -0.13112368686685683, -0.07437716814267513, -0.026204060184124068, 0.5964718882005696, -0.26513451200472454, 0.5944125702997664, 0.6117193164573792, -0.022131470710685112, -0.06859141275968125, 0.2246124905646447, 0.4109717167458292, 0.47151959479735245, 0.018012919160030016, 0.2800692956396266, 0.1929963357134681, 0.5061101230900161, 0.47080034876379584, -0.021360911597259183, 0.0060896780582666695, 0.022218330357802706, 0.19791983541908903, 0.1464880325469376, -0.03239144379960784, -0.08182439079530555, nan, -0.0025395553250187356, nan, 0.0005928737574115953, 0.0007843304337794194, -0.07531171854373958, 0.01623754288426453, -0.2769490961764388, 0.5554739541003533, 0.5209495581330975, 0.5734866484673178, 0.5367758036606631, 0.2719442718540575, -0.08182439079530555, -0.007437499559446921, 0.1443626631616928, 0.10380014801756379, -0.14415186089372078, -0.0025395553250187356, -0.007453749008937983, -0.043427898490383414, 0.5216158184252779, -0.07437716814267513, 0.5944125702997395, 0.0005928737574115953, nan, nan, nan, nan, nan, nan, -0.0030550685202469117, -0.015098943142076863, -0.003175640392710036, -0.002127152202320948, -0.002814987386765917, -0.09305410579760343, -0.0026395165824656588, 0.00121865351363734, 0.028072417724471836, -0.02254613997753356, -0.008216632707332243, 0.037264856856996924, 0.4708605227304797, 0.12893362864362917, 0.4756099264899195, 0.45843792114282633, 1.0] \n",
      "\n",
      "[2, 3, 5, 25, 32, 34, 35, 45, 32, 50, 34, 2, 3, 65, 66, 68, 69, 72] \n",
      "\n"
     ]
    }
   ],
   "source": [
    "crr=list(df.corr()[' Label'])\n",
    "print(crr,\"\\n\")\n",
    "ls=[crr.index(i) for i in crr if abs(i)<0.01]\n",
    "print(ls,\"\\n\")"
   ]
  },
  {
   "cell_type": "code",
   "execution_count": 26,
   "metadata": {
    "colab": {
     "base_uri": "https://localhost:8080/"
    },
    "id": "vbFuY3MuT72x",
    "outputId": "37f4cce3-16d6-4280-e20f-df7e6f450bbf"
   },
   "outputs": [
    {
     "data": {
      "text/plain": [
       "[' Fwd Header Length',\n",
       " 'Bwd IAT Total',\n",
       " ' Bwd Header Length',\n",
       " ' Subflow Bwd Bytes',\n",
       " ' Total Length of Bwd Packets',\n",
       " ' RST Flag Count',\n",
       " 'Init_Win_bytes_forward',\n",
       " ' Total Fwd Packets',\n",
       " ' act_data_pkt_fwd',\n",
       " ' Active Max',\n",
       " ' Fwd URG Flags',\n",
       " ' ECE Flag Count',\n",
       " ' Total Backward Packets',\n",
       " ' min_seg_size_forward']"
      ]
     },
     "execution_count": 26,
     "metadata": {},
     "output_type": "execute_result"
    }
   ],
   "source": [
    "colsfromindex = list(set(df.columns[ls]))\n",
    "colsfromindex"
   ]
  },
  {
   "cell_type": "code",
   "execution_count": 27,
   "metadata": {
    "id": "NNdje5WwT70a"
   },
   "outputs": [],
   "source": [
    "colsfromindex.remove(' Total Fwd Packets')\n",
    "colsfromindex.remove(' Total Backward Packets')\n",
    "colsfromindex.remove(' Total Length of Bwd Packets')\n",
    "colsfromindex.remove(' RST Flag Count')\n",
    "colsfromindex.remove('Bwd IAT Total')"
   ]
  },
  {
   "cell_type": "code",
   "execution_count": 28,
   "metadata": {
    "colab": {
     "base_uri": "https://localhost:8080/"
    },
    "id": "cSE_a-ETURe_",
    "outputId": "98838b0d-8561-4bed-a765-9c3621d77a07"
   },
   "outputs": [
    {
     "data": {
      "text/plain": [
       "[' Fwd Header Length',\n",
       " ' Bwd Header Length',\n",
       " ' Subflow Bwd Bytes',\n",
       " 'Init_Win_bytes_forward',\n",
       " ' act_data_pkt_fwd',\n",
       " ' Active Max',\n",
       " ' Fwd URG Flags',\n",
       " ' ECE Flag Count',\n",
       " ' min_seg_size_forward']"
      ]
     },
     "execution_count": 28,
     "metadata": {},
     "output_type": "execute_result"
    }
   ],
   "source": [
    "colsfromindex"
   ]
  },
  {
   "cell_type": "code",
   "execution_count": 29,
   "metadata": {
    "colab": {
     "base_uri": "https://localhost:8080/"
    },
    "id": "fIpxl6IUUYa2",
    "outputId": "1494710a-595b-45ee-883b-f67b63e063e8"
   },
   "outputs": [
    {
     "name": "stdout",
     "output_type": "stream",
     "text": [
      "(2520798, 79)\n",
      "(2520798, 70)\n"
     ]
    }
   ],
   "source": [
    "print(df.shape)\n",
    "df.drop(colsfromindex, axis=1, inplace=True)\n",
    "print(df.shape)"
   ]
  },
  {
   "cell_type": "code",
   "execution_count": 30,
   "metadata": {
    "id": "PR6n9B6VUYXU"
   },
   "outputs": [],
   "source": [
    "df.head()\n",
    "traincols = list(df.columns)"
   ]
  },
  {
   "cell_type": "code",
   "execution_count": 31,
   "metadata": {
    "colab": {
     "base_uri": "https://localhost:8080/"
    },
    "id": "YAc1flWbUct0",
    "outputId": "4ab64b07-3d06-480c-f316-82a7e540fd9a"
   },
   "outputs": [
    {
     "name": "stdout",
     "output_type": "stream",
     "text": [
      "(2520798, 69)\n",
      "(2520798,)\n"
     ]
    }
   ],
   "source": [
    "x=df.drop([' Label'],axis=1)\n",
    "y=df[' Label']\n",
    "print(x.shape)\n",
    "print(y.shape)"
   ]
  },
  {
   "cell_type": "code",
   "execution_count": 32,
   "metadata": {
    "id": "x0rEq1vuUcqb"
   },
   "outputs": [],
   "source": [
    "x_train,x_test,y_train,y_test = train_test_split(x,y)"
   ]
  },
  {
   "cell_type": "code",
   "execution_count": 33,
   "metadata": {
    "colab": {
     "base_uri": "https://localhost:8080/"
    },
    "id": "iumpMDvzUcfO",
    "outputId": "3ec9d433-82b6-4093-d164-4131e15b4c88"
   },
   "outputs": [
    {
     "data": {
      "text/plain": [
       "(1890598, 69)"
      ]
     },
     "execution_count": 33,
     "metadata": {},
     "output_type": "execute_result"
    }
   ],
   "source": [
    "x_train.shape"
   ]
  },
  {
   "cell_type": "code",
   "execution_count": 34,
   "metadata": {
    "colab": {
     "base_uri": "https://localhost:8080/",
     "height": 322
    },
    "id": "q5ecttZPWHr5",
    "outputId": "a9b33ccf-60f8-4fa2-b81d-af900e157b59"
   },
   "outputs": [
    {
     "data": {
      "text/html": [
       "<div>\n",
       "<style scoped>\n",
       "    .dataframe tbody tr th:only-of-type {\n",
       "        vertical-align: middle;\n",
       "    }\n",
       "\n",
       "    .dataframe tbody tr th {\n",
       "        vertical-align: top;\n",
       "    }\n",
       "\n",
       "    .dataframe thead th {\n",
       "        text-align: right;\n",
       "    }\n",
       "</style>\n",
       "<table border=\"1\" class=\"dataframe\">\n",
       "  <thead>\n",
       "    <tr style=\"text-align: right;\">\n",
       "      <th></th>\n",
       "      <th>Destination Port</th>\n",
       "      <th>Flow Duration</th>\n",
       "      <th>Total Fwd Packets</th>\n",
       "      <th>Total Backward Packets</th>\n",
       "      <th>Total Length of Fwd Packets</th>\n",
       "      <th>Total Length of Bwd Packets</th>\n",
       "      <th>Fwd Packet Length Max</th>\n",
       "      <th>Fwd Packet Length Min</th>\n",
       "      <th>Fwd Packet Length Mean</th>\n",
       "      <th>Fwd Packet Length Std</th>\n",
       "      <th>Bwd Packet Length Max</th>\n",
       "      <th>Bwd Packet Length Min</th>\n",
       "      <th>Bwd Packet Length Mean</th>\n",
       "      <th>Bwd Packet Length Std</th>\n",
       "      <th>Flow Bytes/s</th>\n",
       "      <th>Flow Packets/s</th>\n",
       "      <th>Flow IAT Mean</th>\n",
       "      <th>Flow IAT Std</th>\n",
       "      <th>Flow IAT Max</th>\n",
       "      <th>Flow IAT Min</th>\n",
       "      <th>Fwd IAT Total</th>\n",
       "      <th>Fwd IAT Mean</th>\n",
       "      <th>Fwd IAT Std</th>\n",
       "      <th>Fwd IAT Max</th>\n",
       "      <th>Fwd IAT Min</th>\n",
       "      <th>Bwd IAT Total</th>\n",
       "      <th>Bwd IAT Mean</th>\n",
       "      <th>Bwd IAT Std</th>\n",
       "      <th>Bwd IAT Max</th>\n",
       "      <th>Bwd IAT Min</th>\n",
       "      <th>Fwd PSH Flags</th>\n",
       "      <th>Bwd PSH Flags</th>\n",
       "      <th>Bwd URG Flags</th>\n",
       "      <th>Fwd Packets/s</th>\n",
       "      <th>Bwd Packets/s</th>\n",
       "      <th>Min Packet Length</th>\n",
       "      <th>Max Packet Length</th>\n",
       "      <th>Packet Length Mean</th>\n",
       "      <th>Packet Length Std</th>\n",
       "      <th>Packet Length Variance</th>\n",
       "      <th>FIN Flag Count</th>\n",
       "      <th>SYN Flag Count</th>\n",
       "      <th>RST Flag Count</th>\n",
       "      <th>PSH Flag Count</th>\n",
       "      <th>ACK Flag Count</th>\n",
       "      <th>URG Flag Count</th>\n",
       "      <th>CWE Flag Count</th>\n",
       "      <th>Down/Up Ratio</th>\n",
       "      <th>Average Packet Size</th>\n",
       "      <th>Avg Fwd Segment Size</th>\n",
       "      <th>Avg Bwd Segment Size</th>\n",
       "      <th>Fwd Header Length.1</th>\n",
       "      <th>Fwd Avg Bytes/Bulk</th>\n",
       "      <th>Fwd Avg Packets/Bulk</th>\n",
       "      <th>Fwd Avg Bulk Rate</th>\n",
       "      <th>Bwd Avg Bytes/Bulk</th>\n",
       "      <th>Bwd Avg Packets/Bulk</th>\n",
       "      <th>Bwd Avg Bulk Rate</th>\n",
       "      <th>Subflow Fwd Packets</th>\n",
       "      <th>Subflow Fwd Bytes</th>\n",
       "      <th>Subflow Bwd Packets</th>\n",
       "      <th>Init_Win_bytes_backward</th>\n",
       "      <th>Active Mean</th>\n",
       "      <th>Active Std</th>\n",
       "      <th>Active Min</th>\n",
       "      <th>Idle Mean</th>\n",
       "      <th>Idle Std</th>\n",
       "      <th>Idle Max</th>\n",
       "      <th>Idle Min</th>\n",
       "    </tr>\n",
       "  </thead>\n",
       "  <tbody>\n",
       "    <tr>\n",
       "      <th>276706</th>\n",
       "      <td>443</td>\n",
       "      <td>5338420</td>\n",
       "      <td>9</td>\n",
       "      <td>5</td>\n",
       "      <td>354</td>\n",
       "      <td>3677</td>\n",
       "      <td>197</td>\n",
       "      <td>0</td>\n",
       "      <td>39.333333</td>\n",
       "      <td>72.216688</td>\n",
       "      <td>1987</td>\n",
       "      <td>0</td>\n",
       "      <td>735.400000</td>\n",
       "      <td>921.869188</td>\n",
       "      <td>755.092331</td>\n",
       "      <td>2.622499</td>\n",
       "      <td>4.106477e+05</td>\n",
       "      <td>1.420062e+06</td>\n",
       "      <td>5136469</td>\n",
       "      <td>38</td>\n",
       "      <td>5338420</td>\n",
       "      <td>667302.5</td>\n",
       "      <td>1.805976e+06</td>\n",
       "      <td>5136469</td>\n",
       "      <td>49</td>\n",
       "      <td>137652</td>\n",
       "      <td>34413.000</td>\n",
       "      <td>4.061286e+04</td>\n",
       "      <td>85638</td>\n",
       "      <td>216</td>\n",
       "      <td>0</td>\n",
       "      <td>0</td>\n",
       "      <td>0</td>\n",
       "      <td>1.685892</td>\n",
       "      <td>0.936607</td>\n",
       "      <td>0</td>\n",
       "      <td>1987</td>\n",
       "      <td>268.733333</td>\n",
       "      <td>602.128305</td>\n",
       "      <td>362558.495200</td>\n",
       "      <td>0</td>\n",
       "      <td>0</td>\n",
       "      <td>0</td>\n",
       "      <td>1</td>\n",
       "      <td>0</td>\n",
       "      <td>0</td>\n",
       "      <td>0</td>\n",
       "      <td>0</td>\n",
       "      <td>287.928571</td>\n",
       "      <td>39.333333</td>\n",
       "      <td>735.400000</td>\n",
       "      <td>296</td>\n",
       "      <td>0</td>\n",
       "      <td>0</td>\n",
       "      <td>0</td>\n",
       "      <td>0</td>\n",
       "      <td>0</td>\n",
       "      <td>0</td>\n",
       "      <td>9</td>\n",
       "      <td>354</td>\n",
       "      <td>5</td>\n",
       "      <td>939</td>\n",
       "      <td>201902.0</td>\n",
       "      <td>0.000000</td>\n",
       "      <td>201902</td>\n",
       "      <td>5136469.0</td>\n",
       "      <td>0.000000</td>\n",
       "      <td>5136469</td>\n",
       "      <td>5136469</td>\n",
       "    </tr>\n",
       "    <tr>\n",
       "      <th>402296</th>\n",
       "      <td>53</td>\n",
       "      <td>143087</td>\n",
       "      <td>1</td>\n",
       "      <td>1</td>\n",
       "      <td>42</td>\n",
       "      <td>134</td>\n",
       "      <td>42</td>\n",
       "      <td>42</td>\n",
       "      <td>42.000000</td>\n",
       "      <td>0.000000</td>\n",
       "      <td>134</td>\n",
       "      <td>134</td>\n",
       "      <td>134.000000</td>\n",
       "      <td>0.000000</td>\n",
       "      <td>1230.020896</td>\n",
       "      <td>13.977510</td>\n",
       "      <td>1.430870e+05</td>\n",
       "      <td>0.000000e+00</td>\n",
       "      <td>143087</td>\n",
       "      <td>143087</td>\n",
       "      <td>0</td>\n",
       "      <td>0.0</td>\n",
       "      <td>0.000000e+00</td>\n",
       "      <td>0</td>\n",
       "      <td>0</td>\n",
       "      <td>0</td>\n",
       "      <td>0.000</td>\n",
       "      <td>0.000000e+00</td>\n",
       "      <td>0</td>\n",
       "      <td>0</td>\n",
       "      <td>0</td>\n",
       "      <td>0</td>\n",
       "      <td>0</td>\n",
       "      <td>6.988755</td>\n",
       "      <td>6.988755</td>\n",
       "      <td>42</td>\n",
       "      <td>134</td>\n",
       "      <td>72.666667</td>\n",
       "      <td>53.116225</td>\n",
       "      <td>2821.333333</td>\n",
       "      <td>0</td>\n",
       "      <td>0</td>\n",
       "      <td>0</td>\n",
       "      <td>0</td>\n",
       "      <td>0</td>\n",
       "      <td>0</td>\n",
       "      <td>0</td>\n",
       "      <td>1</td>\n",
       "      <td>109.000000</td>\n",
       "      <td>42.000000</td>\n",
       "      <td>134.000000</td>\n",
       "      <td>20</td>\n",
       "      <td>0</td>\n",
       "      <td>0</td>\n",
       "      <td>0</td>\n",
       "      <td>0</td>\n",
       "      <td>0</td>\n",
       "      <td>0</td>\n",
       "      <td>1</td>\n",
       "      <td>42</td>\n",
       "      <td>1</td>\n",
       "      <td>-1</td>\n",
       "      <td>0.0</td>\n",
       "      <td>0.000000</td>\n",
       "      <td>0</td>\n",
       "      <td>0.0</td>\n",
       "      <td>0.000000</td>\n",
       "      <td>0</td>\n",
       "      <td>0</td>\n",
       "    </tr>\n",
       "    <tr>\n",
       "      <th>15008</th>\n",
       "      <td>443</td>\n",
       "      <td>91036702</td>\n",
       "      <td>19</td>\n",
       "      <td>17</td>\n",
       "      <td>1500</td>\n",
       "      <td>4909</td>\n",
       "      <td>432</td>\n",
       "      <td>0</td>\n",
       "      <td>78.947368</td>\n",
       "      <td>114.666412</td>\n",
       "      <td>1460</td>\n",
       "      <td>0</td>\n",
       "      <td>288.764706</td>\n",
       "      <td>491.252294</td>\n",
       "      <td>70.400178</td>\n",
       "      <td>0.395445</td>\n",
       "      <td>2.601049e+06</td>\n",
       "      <td>1.059092e+07</td>\n",
       "      <td>45003120</td>\n",
       "      <td>1</td>\n",
       "      <td>91021527</td>\n",
       "      <td>5056751.5</td>\n",
       "      <td>1.453515e+07</td>\n",
       "      <td>45014125</td>\n",
       "      <td>1</td>\n",
       "      <td>91021602</td>\n",
       "      <td>5688850.125</td>\n",
       "      <td>1.535256e+07</td>\n",
       "      <td>45018560</td>\n",
       "      <td>4</td>\n",
       "      <td>0</td>\n",
       "      <td>0</td>\n",
       "      <td>0</td>\n",
       "      <td>0.208707</td>\n",
       "      <td>0.186738</td>\n",
       "      <td>0</td>\n",
       "      <td>1460</td>\n",
       "      <td>173.216216</td>\n",
       "      <td>354.485397</td>\n",
       "      <td>125659.896396</td>\n",
       "      <td>0</td>\n",
       "      <td>0</td>\n",
       "      <td>0</td>\n",
       "      <td>1</td>\n",
       "      <td>0</td>\n",
       "      <td>0</td>\n",
       "      <td>0</td>\n",
       "      <td>0</td>\n",
       "      <td>178.027778</td>\n",
       "      <td>78.947368</td>\n",
       "      <td>288.764706</td>\n",
       "      <td>392</td>\n",
       "      <td>0</td>\n",
       "      <td>0</td>\n",
       "      <td>0</td>\n",
       "      <td>0</td>\n",
       "      <td>0</td>\n",
       "      <td>0</td>\n",
       "      <td>19</td>\n",
       "      <td>1500</td>\n",
       "      <td>17</td>\n",
       "      <td>34</td>\n",
       "      <td>509820.0</td>\n",
       "      <td>699274.866478</td>\n",
       "      <td>15358</td>\n",
       "      <td>45000943.5</td>\n",
       "      <td>3078.035819</td>\n",
       "      <td>45003120</td>\n",
       "      <td>44998767</td>\n",
       "    </tr>\n",
       "    <tr>\n",
       "      <th>15748</th>\n",
       "      <td>53</td>\n",
       "      <td>23955</td>\n",
       "      <td>2</td>\n",
       "      <td>2</td>\n",
       "      <td>72</td>\n",
       "      <td>246</td>\n",
       "      <td>36</td>\n",
       "      <td>36</td>\n",
       "      <td>36.000000</td>\n",
       "      <td>0.000000</td>\n",
       "      <td>123</td>\n",
       "      <td>123</td>\n",
       "      <td>123.000000</td>\n",
       "      <td>0.000000</td>\n",
       "      <td>13274.890420</td>\n",
       "      <td>166.979754</td>\n",
       "      <td>7.985000e+03</td>\n",
       "      <td>1.378541e+04</td>\n",
       "      <td>23903</td>\n",
       "      <td>4</td>\n",
       "      <td>4</td>\n",
       "      <td>4.0</td>\n",
       "      <td>0.000000e+00</td>\n",
       "      <td>4</td>\n",
       "      <td>4</td>\n",
       "      <td>48</td>\n",
       "      <td>48.000</td>\n",
       "      <td>0.000000e+00</td>\n",
       "      <td>48</td>\n",
       "      <td>48</td>\n",
       "      <td>0</td>\n",
       "      <td>0</td>\n",
       "      <td>0</td>\n",
       "      <td>83.489877</td>\n",
       "      <td>83.489877</td>\n",
       "      <td>36</td>\n",
       "      <td>123</td>\n",
       "      <td>70.800000</td>\n",
       "      <td>47.651863</td>\n",
       "      <td>2270.700000</td>\n",
       "      <td>0</td>\n",
       "      <td>0</td>\n",
       "      <td>0</td>\n",
       "      <td>0</td>\n",
       "      <td>0</td>\n",
       "      <td>0</td>\n",
       "      <td>0</td>\n",
       "      <td>1</td>\n",
       "      <td>88.500000</td>\n",
       "      <td>36.000000</td>\n",
       "      <td>123.000000</td>\n",
       "      <td>40</td>\n",
       "      <td>0</td>\n",
       "      <td>0</td>\n",
       "      <td>0</td>\n",
       "      <td>0</td>\n",
       "      <td>0</td>\n",
       "      <td>0</td>\n",
       "      <td>2</td>\n",
       "      <td>72</td>\n",
       "      <td>2</td>\n",
       "      <td>-1</td>\n",
       "      <td>0.0</td>\n",
       "      <td>0.000000</td>\n",
       "      <td>0</td>\n",
       "      <td>0.0</td>\n",
       "      <td>0.000000</td>\n",
       "      <td>0</td>\n",
       "      <td>0</td>\n",
       "    </tr>\n",
       "    <tr>\n",
       "      <th>35441</th>\n",
       "      <td>53</td>\n",
       "      <td>85427</td>\n",
       "      <td>2</td>\n",
       "      <td>2</td>\n",
       "      <td>82</td>\n",
       "      <td>216</td>\n",
       "      <td>41</td>\n",
       "      <td>41</td>\n",
       "      <td>41.000000</td>\n",
       "      <td>0.000000</td>\n",
       "      <td>108</td>\n",
       "      <td>108</td>\n",
       "      <td>108.000000</td>\n",
       "      <td>0.000000</td>\n",
       "      <td>3488.358482</td>\n",
       "      <td>46.823604</td>\n",
       "      <td>2.847567e+04</td>\n",
       "      <td>4.927887e+04</td>\n",
       "      <td>85378</td>\n",
       "      <td>1</td>\n",
       "      <td>1</td>\n",
       "      <td>1.0</td>\n",
       "      <td>0.000000e+00</td>\n",
       "      <td>1</td>\n",
       "      <td>1</td>\n",
       "      <td>48</td>\n",
       "      <td>48.000</td>\n",
       "      <td>0.000000e+00</td>\n",
       "      <td>48</td>\n",
       "      <td>48</td>\n",
       "      <td>0</td>\n",
       "      <td>0</td>\n",
       "      <td>0</td>\n",
       "      <td>23.411802</td>\n",
       "      <td>23.411802</td>\n",
       "      <td>41</td>\n",
       "      <td>108</td>\n",
       "      <td>67.800000</td>\n",
       "      <td>36.697411</td>\n",
       "      <td>1346.700000</td>\n",
       "      <td>0</td>\n",
       "      <td>0</td>\n",
       "      <td>0</td>\n",
       "      <td>0</td>\n",
       "      <td>0</td>\n",
       "      <td>0</td>\n",
       "      <td>0</td>\n",
       "      <td>1</td>\n",
       "      <td>84.750000</td>\n",
       "      <td>41.000000</td>\n",
       "      <td>108.000000</td>\n",
       "      <td>64</td>\n",
       "      <td>0</td>\n",
       "      <td>0</td>\n",
       "      <td>0</td>\n",
       "      <td>0</td>\n",
       "      <td>0</td>\n",
       "      <td>0</td>\n",
       "      <td>2</td>\n",
       "      <td>82</td>\n",
       "      <td>2</td>\n",
       "      <td>-1</td>\n",
       "      <td>0.0</td>\n",
       "      <td>0.000000</td>\n",
       "      <td>0</td>\n",
       "      <td>0.0</td>\n",
       "      <td>0.000000</td>\n",
       "      <td>0</td>\n",
       "      <td>0</td>\n",
       "    </tr>\n",
       "  </tbody>\n",
       "</table>\n",
       "</div>"
      ],
      "text/plain": [
       "         Destination Port   Flow Duration   Total Fwd Packets  \\\n",
       "276706                443         5338420                   9   \n",
       "402296                 53          143087                   1   \n",
       "15008                 443        91036702                  19   \n",
       "15748                  53           23955                   2   \n",
       "35441                  53           85427                   2   \n",
       "\n",
       "         Total Backward Packets  Total Length of Fwd Packets  \\\n",
       "276706                        5                          354   \n",
       "402296                        1                           42   \n",
       "15008                        17                         1500   \n",
       "15748                         2                           72   \n",
       "35441                         2                           82   \n",
       "\n",
       "         Total Length of Bwd Packets   Fwd Packet Length Max  \\\n",
       "276706                          3677                     197   \n",
       "402296                           134                      42   \n",
       "15008                           4909                     432   \n",
       "15748                            246                      36   \n",
       "35441                            216                      41   \n",
       "\n",
       "         Fwd Packet Length Min   Fwd Packet Length Mean  \\\n",
       "276706                       0                39.333333   \n",
       "402296                      42                42.000000   \n",
       "15008                        0                78.947368   \n",
       "15748                       36                36.000000   \n",
       "35441                       41                41.000000   \n",
       "\n",
       "         Fwd Packet Length Std  Bwd Packet Length Max   Bwd Packet Length Min  \\\n",
       "276706               72.216688                   1987                       0   \n",
       "402296                0.000000                    134                     134   \n",
       "15008               114.666412                   1460                       0   \n",
       "15748                 0.000000                    123                     123   \n",
       "35441                 0.000000                    108                     108   \n",
       "\n",
       "         Bwd Packet Length Mean   Bwd Packet Length Std  Flow Bytes/s  \\\n",
       "276706               735.400000              921.869188    755.092331   \n",
       "402296               134.000000                0.000000   1230.020896   \n",
       "15008                288.764706              491.252294     70.400178   \n",
       "15748                123.000000                0.000000  13274.890420   \n",
       "35441                108.000000                0.000000   3488.358482   \n",
       "\n",
       "         Flow Packets/s   Flow IAT Mean   Flow IAT Std   Flow IAT Max  \\\n",
       "276706         2.622499    4.106477e+05   1.420062e+06        5136469   \n",
       "402296        13.977510    1.430870e+05   0.000000e+00         143087   \n",
       "15008          0.395445    2.601049e+06   1.059092e+07       45003120   \n",
       "15748        166.979754    7.985000e+03   1.378541e+04          23903   \n",
       "35441         46.823604    2.847567e+04   4.927887e+04          85378   \n",
       "\n",
       "         Flow IAT Min  Fwd IAT Total   Fwd IAT Mean   Fwd IAT Std  \\\n",
       "276706             38        5338420       667302.5  1.805976e+06   \n",
       "402296         143087              0            0.0  0.000000e+00   \n",
       "15008               1       91021527      5056751.5  1.453515e+07   \n",
       "15748               4              4            4.0  0.000000e+00   \n",
       "35441               1              1            1.0  0.000000e+00   \n",
       "\n",
       "         Fwd IAT Max   Fwd IAT Min  Bwd IAT Total   Bwd IAT Mean  \\\n",
       "276706       5136469            49         137652      34413.000   \n",
       "402296             0             0              0          0.000   \n",
       "15008       45014125             1       91021602    5688850.125   \n",
       "15748              4             4             48         48.000   \n",
       "35441              1             1             48         48.000   \n",
       "\n",
       "         Bwd IAT Std   Bwd IAT Max   Bwd IAT Min  Fwd PSH Flags  \\\n",
       "276706  4.061286e+04         85638           216              0   \n",
       "402296  0.000000e+00             0             0              0   \n",
       "15008   1.535256e+07      45018560             4              0   \n",
       "15748   0.000000e+00            48            48              0   \n",
       "35441   0.000000e+00            48            48              0   \n",
       "\n",
       "         Bwd PSH Flags   Bwd URG Flags  Fwd Packets/s   Bwd Packets/s  \\\n",
       "276706               0               0       1.685892        0.936607   \n",
       "402296               0               0       6.988755        6.988755   \n",
       "15008                0               0       0.208707        0.186738   \n",
       "15748                0               0      83.489877       83.489877   \n",
       "35441                0               0      23.411802       23.411802   \n",
       "\n",
       "         Min Packet Length   Max Packet Length   Packet Length Mean  \\\n",
       "276706                   0                1987           268.733333   \n",
       "402296                  42                 134            72.666667   \n",
       "15008                    0                1460           173.216216   \n",
       "15748                   36                 123            70.800000   \n",
       "35441                   41                 108            67.800000   \n",
       "\n",
       "         Packet Length Std   Packet Length Variance  FIN Flag Count  \\\n",
       "276706          602.128305            362558.495200               0   \n",
       "402296           53.116225              2821.333333               0   \n",
       "15008           354.485397            125659.896396               0   \n",
       "15748            47.651863              2270.700000               0   \n",
       "35441            36.697411              1346.700000               0   \n",
       "\n",
       "         SYN Flag Count   RST Flag Count   PSH Flag Count   ACK Flag Count  \\\n",
       "276706                0                0                1                0   \n",
       "402296                0                0                0                0   \n",
       "15008                 0                0                1                0   \n",
       "15748                 0                0                0                0   \n",
       "35441                 0                0                0                0   \n",
       "\n",
       "         URG Flag Count   CWE Flag Count   Down/Up Ratio  \\\n",
       "276706                0                0               0   \n",
       "402296                0                0               1   \n",
       "15008                 0                0               0   \n",
       "15748                 0                0               1   \n",
       "35441                 0                0               1   \n",
       "\n",
       "         Average Packet Size   Avg Fwd Segment Size   Avg Bwd Segment Size  \\\n",
       "276706            287.928571              39.333333             735.400000   \n",
       "402296            109.000000              42.000000             134.000000   \n",
       "15008             178.027778              78.947368             288.764706   \n",
       "15748              88.500000              36.000000             123.000000   \n",
       "35441              84.750000              41.000000             108.000000   \n",
       "\n",
       "         Fwd Header Length.1  Fwd Avg Bytes/Bulk   Fwd Avg Packets/Bulk  \\\n",
       "276706                   296                   0                      0   \n",
       "402296                    20                   0                      0   \n",
       "15008                    392                   0                      0   \n",
       "15748                     40                   0                      0   \n",
       "35441                     64                   0                      0   \n",
       "\n",
       "         Fwd Avg Bulk Rate   Bwd Avg Bytes/Bulk   Bwd Avg Packets/Bulk  \\\n",
       "276706                   0                    0                      0   \n",
       "402296                   0                    0                      0   \n",
       "15008                    0                    0                      0   \n",
       "15748                    0                    0                      0   \n",
       "35441                    0                    0                      0   \n",
       "\n",
       "        Bwd Avg Bulk Rate  Subflow Fwd Packets   Subflow Fwd Bytes  \\\n",
       "276706                  0                    9                 354   \n",
       "402296                  0                    1                  42   \n",
       "15008                   0                   19                1500   \n",
       "15748                   0                    2                  72   \n",
       "35441                   0                    2                  82   \n",
       "\n",
       "         Subflow Bwd Packets   Init_Win_bytes_backward  Active Mean  \\\n",
       "276706                     5                       939     201902.0   \n",
       "402296                     1                        -1          0.0   \n",
       "15008                     17                        34     509820.0   \n",
       "15748                      2                        -1          0.0   \n",
       "35441                      2                        -1          0.0   \n",
       "\n",
       "           Active Std   Active Min   Idle Mean     Idle Std   Idle Max  \\\n",
       "276706       0.000000       201902   5136469.0     0.000000    5136469   \n",
       "402296       0.000000            0         0.0     0.000000          0   \n",
       "15008   699274.866478        15358  45000943.5  3078.035819   45003120   \n",
       "15748        0.000000            0         0.0     0.000000          0   \n",
       "35441        0.000000            0         0.0     0.000000          0   \n",
       "\n",
       "         Idle Min  \n",
       "276706    5136469  \n",
       "402296          0  \n",
       "15008    44998767  \n",
       "15748           0  \n",
       "35441           0  "
      ]
     },
     "execution_count": 34,
     "metadata": {},
     "output_type": "execute_result"
    }
   ],
   "source": [
    "x_train.head()"
   ]
  },
  {
   "cell_type": "code",
   "execution_count": 35,
   "metadata": {
    "colab": {
     "base_uri": "https://localhost:8080/"
    },
    "id": "4x5qntKxWK8R",
    "outputId": "63d0da7b-60da-4b54-8b27-cb7cabd8bf26"
   },
   "outputs": [
    {
     "data": {
      "text/plain": [
       "(1890598,)"
      ]
     },
     "execution_count": 35,
     "metadata": {},
     "output_type": "execute_result"
    }
   ],
   "source": [
    "y_train.shape"
   ]
  },
  {
   "cell_type": "code",
   "execution_count": 36,
   "metadata": {
    "colab": {
     "base_uri": "https://localhost:8080/"
    },
    "id": "UFh_-OUgWPcb",
    "outputId": "6c211b55-7d61-4f81-ea81-518dcacda77a"
   },
   "outputs": [
    {
     "data": {
      "text/plain": [
       "276706    0\n",
       "402296    0\n",
       "15008     0\n",
       "15748     0\n",
       "35441     0\n",
       "Name:  Label, dtype: int64"
      ]
     },
     "execution_count": 36,
     "metadata": {},
     "output_type": "execute_result"
    }
   ],
   "source": [
    "y_train.head()"
   ]
  },
  {
   "cell_type": "markdown",
   "metadata": {
    "id": "lEWVvqdOYEFx"
   },
   "source": [
    "\n",
    "\n"
   ]
  },
  {
   "cell_type": "code",
   "execution_count": 37,
   "metadata": {
    "colab": {
     "base_uri": "https://localhost:8080/",
     "height": 322
    },
    "id": "EwAe3_RcPSat",
    "outputId": "29800f39-d84b-4cc1-84fc-226603d2ac61"
   },
   "outputs": [
    {
     "data": {
      "text/html": [
       "<div>\n",
       "<style scoped>\n",
       "    .dataframe tbody tr th:only-of-type {\n",
       "        vertical-align: middle;\n",
       "    }\n",
       "\n",
       "    .dataframe tbody tr th {\n",
       "        vertical-align: top;\n",
       "    }\n",
       "\n",
       "    .dataframe thead th {\n",
       "        text-align: right;\n",
       "    }\n",
       "</style>\n",
       "<table border=\"1\" class=\"dataframe\">\n",
       "  <thead>\n",
       "    <tr style=\"text-align: right;\">\n",
       "      <th></th>\n",
       "      <th>Destination Port</th>\n",
       "      <th>Flow Duration</th>\n",
       "      <th>Total Fwd Packets</th>\n",
       "      <th>Total Backward Packets</th>\n",
       "      <th>Total Length of Fwd Packets</th>\n",
       "      <th>Total Length of Bwd Packets</th>\n",
       "      <th>Fwd Packet Length Max</th>\n",
       "      <th>Fwd Packet Length Min</th>\n",
       "      <th>Fwd Packet Length Mean</th>\n",
       "      <th>Fwd Packet Length Std</th>\n",
       "      <th>Bwd Packet Length Max</th>\n",
       "      <th>Bwd Packet Length Min</th>\n",
       "      <th>Bwd Packet Length Mean</th>\n",
       "      <th>Bwd Packet Length Std</th>\n",
       "      <th>Flow Bytes/s</th>\n",
       "      <th>Flow Packets/s</th>\n",
       "      <th>Flow IAT Mean</th>\n",
       "      <th>Flow IAT Std</th>\n",
       "      <th>Flow IAT Max</th>\n",
       "      <th>Flow IAT Min</th>\n",
       "      <th>Fwd IAT Total</th>\n",
       "      <th>Fwd IAT Mean</th>\n",
       "      <th>Fwd IAT Std</th>\n",
       "      <th>Fwd IAT Max</th>\n",
       "      <th>Fwd IAT Min</th>\n",
       "      <th>Bwd IAT Total</th>\n",
       "      <th>Bwd IAT Mean</th>\n",
       "      <th>Bwd IAT Std</th>\n",
       "      <th>Bwd IAT Max</th>\n",
       "      <th>Bwd IAT Min</th>\n",
       "      <th>Fwd PSH Flags</th>\n",
       "      <th>Bwd PSH Flags</th>\n",
       "      <th>Bwd URG Flags</th>\n",
       "      <th>Fwd Packets/s</th>\n",
       "      <th>Bwd Packets/s</th>\n",
       "      <th>Min Packet Length</th>\n",
       "      <th>Max Packet Length</th>\n",
       "      <th>Packet Length Mean</th>\n",
       "      <th>Packet Length Std</th>\n",
       "      <th>Packet Length Variance</th>\n",
       "      <th>FIN Flag Count</th>\n",
       "      <th>SYN Flag Count</th>\n",
       "      <th>RST Flag Count</th>\n",
       "      <th>PSH Flag Count</th>\n",
       "      <th>ACK Flag Count</th>\n",
       "      <th>URG Flag Count</th>\n",
       "      <th>CWE Flag Count</th>\n",
       "      <th>Down/Up Ratio</th>\n",
       "      <th>Average Packet Size</th>\n",
       "      <th>Avg Fwd Segment Size</th>\n",
       "      <th>Avg Bwd Segment Size</th>\n",
       "      <th>Fwd Header Length.1</th>\n",
       "      <th>Fwd Avg Bytes/Bulk</th>\n",
       "      <th>Fwd Avg Packets/Bulk</th>\n",
       "      <th>Fwd Avg Bulk Rate</th>\n",
       "      <th>Bwd Avg Bytes/Bulk</th>\n",
       "      <th>Bwd Avg Packets/Bulk</th>\n",
       "      <th>Bwd Avg Bulk Rate</th>\n",
       "      <th>Subflow Fwd Packets</th>\n",
       "      <th>Subflow Fwd Bytes</th>\n",
       "      <th>Subflow Bwd Packets</th>\n",
       "      <th>Init_Win_bytes_backward</th>\n",
       "      <th>Active Mean</th>\n",
       "      <th>Active Std</th>\n",
       "      <th>Active Min</th>\n",
       "      <th>Idle Mean</th>\n",
       "      <th>Idle Std</th>\n",
       "      <th>Idle Max</th>\n",
       "      <th>Idle Min</th>\n",
       "    </tr>\n",
       "  </thead>\n",
       "  <tbody>\n",
       "    <tr>\n",
       "      <th>208995</th>\n",
       "      <td>37840</td>\n",
       "      <td>14135</td>\n",
       "      <td>3</td>\n",
       "      <td>0</td>\n",
       "      <td>12</td>\n",
       "      <td>0</td>\n",
       "      <td>6</td>\n",
       "      <td>0</td>\n",
       "      <td>4.000000</td>\n",
       "      <td>3.464102</td>\n",
       "      <td>0</td>\n",
       "      <td>0</td>\n",
       "      <td>0.000000</td>\n",
       "      <td>0.000000</td>\n",
       "      <td>848.956491</td>\n",
       "      <td>212.239123</td>\n",
       "      <td>7067.50000</td>\n",
       "      <td>9990.711711</td>\n",
       "      <td>14132</td>\n",
       "      <td>3</td>\n",
       "      <td>14135</td>\n",
       "      <td>7067.50000</td>\n",
       "      <td>9990.711711</td>\n",
       "      <td>14132</td>\n",
       "      <td>3</td>\n",
       "      <td>0</td>\n",
       "      <td>0.00000</td>\n",
       "      <td>0.0000</td>\n",
       "      <td>0</td>\n",
       "      <td>0</td>\n",
       "      <td>0</td>\n",
       "      <td>0</td>\n",
       "      <td>0</td>\n",
       "      <td>212.239123</td>\n",
       "      <td>0.000000</td>\n",
       "      <td>0</td>\n",
       "      <td>6</td>\n",
       "      <td>3.000000</td>\n",
       "      <td>3.464102</td>\n",
       "      <td>1.200000e+01</td>\n",
       "      <td>0</td>\n",
       "      <td>0</td>\n",
       "      <td>0</td>\n",
       "      <td>0</td>\n",
       "      <td>1</td>\n",
       "      <td>0</td>\n",
       "      <td>0</td>\n",
       "      <td>0</td>\n",
       "      <td>4.000000</td>\n",
       "      <td>4.000000</td>\n",
       "      <td>0.000000</td>\n",
       "      <td>72</td>\n",
       "      <td>0</td>\n",
       "      <td>0</td>\n",
       "      <td>0</td>\n",
       "      <td>0</td>\n",
       "      <td>0</td>\n",
       "      <td>0</td>\n",
       "      <td>3</td>\n",
       "      <td>12</td>\n",
       "      <td>0</td>\n",
       "      <td>-1</td>\n",
       "      <td>0.0</td>\n",
       "      <td>0.0</td>\n",
       "      <td>0</td>\n",
       "      <td>0.0</td>\n",
       "      <td>0.0</td>\n",
       "      <td>0</td>\n",
       "      <td>0</td>\n",
       "    </tr>\n",
       "    <tr>\n",
       "      <th>140912</th>\n",
       "      <td>443</td>\n",
       "      <td>2370041</td>\n",
       "      <td>24</td>\n",
       "      <td>30</td>\n",
       "      <td>831</td>\n",
       "      <td>54196</td>\n",
       "      <td>392</td>\n",
       "      <td>0</td>\n",
       "      <td>34.625000</td>\n",
       "      <td>88.153923</td>\n",
       "      <td>4230</td>\n",
       "      <td>0</td>\n",
       "      <td>1806.533333</td>\n",
       "      <td>1103.267396</td>\n",
       "      <td>23217.741800</td>\n",
       "      <td>22.784416</td>\n",
       "      <td>44717.75472</td>\n",
       "      <td>221046.664600</td>\n",
       "      <td>1601607</td>\n",
       "      <td>3</td>\n",
       "      <td>768431</td>\n",
       "      <td>33410.04348</td>\n",
       "      <td>53629.850420</td>\n",
       "      <td>131192</td>\n",
       "      <td>166</td>\n",
       "      <td>2239897</td>\n",
       "      <td>77237.82759</td>\n",
       "      <td>306397.1551</td>\n",
       "      <td>1650704</td>\n",
       "      <td>3</td>\n",
       "      <td>0</td>\n",
       "      <td>0</td>\n",
       "      <td>0</td>\n",
       "      <td>10.126407</td>\n",
       "      <td>12.658009</td>\n",
       "      <td>0</td>\n",
       "      <td>4230</td>\n",
       "      <td>1000.490909</td>\n",
       "      <td>1204.614167</td>\n",
       "      <td>1.451095e+06</td>\n",
       "      <td>0</td>\n",
       "      <td>0</td>\n",
       "      <td>0</td>\n",
       "      <td>1</td>\n",
       "      <td>0</td>\n",
       "      <td>0</td>\n",
       "      <td>0</td>\n",
       "      <td>1</td>\n",
       "      <td>1019.018519</td>\n",
       "      <td>34.625000</td>\n",
       "      <td>1806.533333</td>\n",
       "      <td>492</td>\n",
       "      <td>0</td>\n",
       "      <td>0</td>\n",
       "      <td>0</td>\n",
       "      <td>0</td>\n",
       "      <td>0</td>\n",
       "      <td>0</td>\n",
       "      <td>24</td>\n",
       "      <td>831</td>\n",
       "      <td>30</td>\n",
       "      <td>889</td>\n",
       "      <td>0.0</td>\n",
       "      <td>0.0</td>\n",
       "      <td>0</td>\n",
       "      <td>0.0</td>\n",
       "      <td>0.0</td>\n",
       "      <td>0</td>\n",
       "      <td>0</td>\n",
       "    </tr>\n",
       "    <tr>\n",
       "      <th>572234</th>\n",
       "      <td>53101</td>\n",
       "      <td>49</td>\n",
       "      <td>2</td>\n",
       "      <td>0</td>\n",
       "      <td>12</td>\n",
       "      <td>0</td>\n",
       "      <td>6</td>\n",
       "      <td>6</td>\n",
       "      <td>6.000000</td>\n",
       "      <td>0.000000</td>\n",
       "      <td>0</td>\n",
       "      <td>0</td>\n",
       "      <td>0.000000</td>\n",
       "      <td>0.000000</td>\n",
       "      <td>244897.959200</td>\n",
       "      <td>40816.326530</td>\n",
       "      <td>49.00000</td>\n",
       "      <td>0.000000</td>\n",
       "      <td>49</td>\n",
       "      <td>49</td>\n",
       "      <td>49</td>\n",
       "      <td>49.00000</td>\n",
       "      <td>0.000000</td>\n",
       "      <td>49</td>\n",
       "      <td>49</td>\n",
       "      <td>0</td>\n",
       "      <td>0.00000</td>\n",
       "      <td>0.0000</td>\n",
       "      <td>0</td>\n",
       "      <td>0</td>\n",
       "      <td>0</td>\n",
       "      <td>0</td>\n",
       "      <td>0</td>\n",
       "      <td>40816.326530</td>\n",
       "      <td>0.000000</td>\n",
       "      <td>6</td>\n",
       "      <td>6</td>\n",
       "      <td>6.000000</td>\n",
       "      <td>0.000000</td>\n",
       "      <td>0.000000e+00</td>\n",
       "      <td>1</td>\n",
       "      <td>0</td>\n",
       "      <td>0</td>\n",
       "      <td>0</td>\n",
       "      <td>0</td>\n",
       "      <td>0</td>\n",
       "      <td>0</td>\n",
       "      <td>0</td>\n",
       "      <td>9.000000</td>\n",
       "      <td>6.000000</td>\n",
       "      <td>0.000000</td>\n",
       "      <td>40</td>\n",
       "      <td>0</td>\n",
       "      <td>0</td>\n",
       "      <td>0</td>\n",
       "      <td>0</td>\n",
       "      <td>0</td>\n",
       "      <td>0</td>\n",
       "      <td>2</td>\n",
       "      <td>12</td>\n",
       "      <td>0</td>\n",
       "      <td>-1</td>\n",
       "      <td>0.0</td>\n",
       "      <td>0.0</td>\n",
       "      <td>0</td>\n",
       "      <td>0.0</td>\n",
       "      <td>0.0</td>\n",
       "      <td>0</td>\n",
       "      <td>0</td>\n",
       "    </tr>\n",
       "    <tr>\n",
       "      <th>132153</th>\n",
       "      <td>53</td>\n",
       "      <td>24438</td>\n",
       "      <td>1</td>\n",
       "      <td>1</td>\n",
       "      <td>47</td>\n",
       "      <td>79</td>\n",
       "      <td>47</td>\n",
       "      <td>47</td>\n",
       "      <td>47.000000</td>\n",
       "      <td>0.000000</td>\n",
       "      <td>79</td>\n",
       "      <td>79</td>\n",
       "      <td>79.000000</td>\n",
       "      <td>0.000000</td>\n",
       "      <td>5155.904739</td>\n",
       "      <td>81.839758</td>\n",
       "      <td>24438.00000</td>\n",
       "      <td>0.000000</td>\n",
       "      <td>24438</td>\n",
       "      <td>24438</td>\n",
       "      <td>0</td>\n",
       "      <td>0.00000</td>\n",
       "      <td>0.000000</td>\n",
       "      <td>0</td>\n",
       "      <td>0</td>\n",
       "      <td>0</td>\n",
       "      <td>0.00000</td>\n",
       "      <td>0.0000</td>\n",
       "      <td>0</td>\n",
       "      <td>0</td>\n",
       "      <td>0</td>\n",
       "      <td>0</td>\n",
       "      <td>0</td>\n",
       "      <td>40.919879</td>\n",
       "      <td>40.919879</td>\n",
       "      <td>47</td>\n",
       "      <td>79</td>\n",
       "      <td>57.666667</td>\n",
       "      <td>18.475209</td>\n",
       "      <td>3.413333e+02</td>\n",
       "      <td>0</td>\n",
       "      <td>0</td>\n",
       "      <td>0</td>\n",
       "      <td>0</td>\n",
       "      <td>0</td>\n",
       "      <td>0</td>\n",
       "      <td>0</td>\n",
       "      <td>1</td>\n",
       "      <td>86.500000</td>\n",
       "      <td>47.000000</td>\n",
       "      <td>79.000000</td>\n",
       "      <td>20</td>\n",
       "      <td>0</td>\n",
       "      <td>0</td>\n",
       "      <td>0</td>\n",
       "      <td>0</td>\n",
       "      <td>0</td>\n",
       "      <td>0</td>\n",
       "      <td>1</td>\n",
       "      <td>47</td>\n",
       "      <td>1</td>\n",
       "      <td>-1</td>\n",
       "      <td>0.0</td>\n",
       "      <td>0.0</td>\n",
       "      <td>0</td>\n",
       "      <td>0.0</td>\n",
       "      <td>0.0</td>\n",
       "      <td>0</td>\n",
       "      <td>0</td>\n",
       "    </tr>\n",
       "    <tr>\n",
       "      <th>92777</th>\n",
       "      <td>80</td>\n",
       "      <td>720760</td>\n",
       "      <td>3</td>\n",
       "      <td>6</td>\n",
       "      <td>26</td>\n",
       "      <td>11607</td>\n",
       "      <td>20</td>\n",
       "      <td>0</td>\n",
       "      <td>8.666667</td>\n",
       "      <td>10.263203</td>\n",
       "      <td>5840</td>\n",
       "      <td>0</td>\n",
       "      <td>1934.500000</td>\n",
       "      <td>2538.919278</td>\n",
       "      <td>16139.907880</td>\n",
       "      <td>12.486819</td>\n",
       "      <td>90095.00000</td>\n",
       "      <td>254502.314400</td>\n",
       "      <td>719956</td>\n",
       "      <td>3</td>\n",
       "      <td>498</td>\n",
       "      <td>249.00000</td>\n",
       "      <td>282.842713</td>\n",
       "      <td>449</td>\n",
       "      <td>49</td>\n",
       "      <td>720713</td>\n",
       "      <td>144142.60000</td>\n",
       "      <td>321889.5272</td>\n",
       "      <td>719956</td>\n",
       "      <td>3</td>\n",
       "      <td>0</td>\n",
       "      <td>0</td>\n",
       "      <td>0</td>\n",
       "      <td>4.162273</td>\n",
       "      <td>8.324546</td>\n",
       "      <td>0</td>\n",
       "      <td>5840</td>\n",
       "      <td>1163.300000</td>\n",
       "      <td>2138.329153</td>\n",
       "      <td>4.572452e+06</td>\n",
       "      <td>0</td>\n",
       "      <td>0</td>\n",
       "      <td>0</td>\n",
       "      <td>1</td>\n",
       "      <td>0</td>\n",
       "      <td>0</td>\n",
       "      <td>0</td>\n",
       "      <td>2</td>\n",
       "      <td>1292.555556</td>\n",
       "      <td>8.666667</td>\n",
       "      <td>1934.500000</td>\n",
       "      <td>72</td>\n",
       "      <td>0</td>\n",
       "      <td>0</td>\n",
       "      <td>0</td>\n",
       "      <td>0</td>\n",
       "      <td>0</td>\n",
       "      <td>0</td>\n",
       "      <td>3</td>\n",
       "      <td>26</td>\n",
       "      <td>6</td>\n",
       "      <td>229</td>\n",
       "      <td>0.0</td>\n",
       "      <td>0.0</td>\n",
       "      <td>0</td>\n",
       "      <td>0.0</td>\n",
       "      <td>0.0</td>\n",
       "      <td>0</td>\n",
       "      <td>0</td>\n",
       "    </tr>\n",
       "  </tbody>\n",
       "</table>\n",
       "</div>"
      ],
      "text/plain": [
       "         Destination Port   Flow Duration   Total Fwd Packets  \\\n",
       "208995              37840           14135                   3   \n",
       "140912                443         2370041                  24   \n",
       "572234              53101              49                   2   \n",
       "132153                 53           24438                   1   \n",
       "92777                  80          720760                   3   \n",
       "\n",
       "         Total Backward Packets  Total Length of Fwd Packets  \\\n",
       "208995                        0                           12   \n",
       "140912                       30                          831   \n",
       "572234                        0                           12   \n",
       "132153                        1                           47   \n",
       "92777                         6                           26   \n",
       "\n",
       "         Total Length of Bwd Packets   Fwd Packet Length Max  \\\n",
       "208995                             0                       6   \n",
       "140912                         54196                     392   \n",
       "572234                             0                       6   \n",
       "132153                            79                      47   \n",
       "92777                          11607                      20   \n",
       "\n",
       "         Fwd Packet Length Min   Fwd Packet Length Mean  \\\n",
       "208995                       0                 4.000000   \n",
       "140912                       0                34.625000   \n",
       "572234                       6                 6.000000   \n",
       "132153                      47                47.000000   \n",
       "92777                        0                 8.666667   \n",
       "\n",
       "         Fwd Packet Length Std  Bwd Packet Length Max   Bwd Packet Length Min  \\\n",
       "208995                3.464102                      0                       0   \n",
       "140912               88.153923                   4230                       0   \n",
       "572234                0.000000                      0                       0   \n",
       "132153                0.000000                     79                      79   \n",
       "92777                10.263203                   5840                       0   \n",
       "\n",
       "         Bwd Packet Length Mean   Bwd Packet Length Std   Flow Bytes/s  \\\n",
       "208995                 0.000000                0.000000     848.956491   \n",
       "140912              1806.533333             1103.267396   23217.741800   \n",
       "572234                 0.000000                0.000000  244897.959200   \n",
       "132153                79.000000                0.000000    5155.904739   \n",
       "92777               1934.500000             2538.919278   16139.907880   \n",
       "\n",
       "         Flow Packets/s   Flow IAT Mean   Flow IAT Std   Flow IAT Max  \\\n",
       "208995       212.239123      7067.50000    9990.711711          14132   \n",
       "140912        22.784416     44717.75472  221046.664600        1601607   \n",
       "572234     40816.326530        49.00000       0.000000             49   \n",
       "132153        81.839758     24438.00000       0.000000          24438   \n",
       "92777         12.486819     90095.00000  254502.314400         719956   \n",
       "\n",
       "         Flow IAT Min  Fwd IAT Total   Fwd IAT Mean   Fwd IAT Std  \\\n",
       "208995              3          14135     7067.50000   9990.711711   \n",
       "140912              3         768431    33410.04348  53629.850420   \n",
       "572234             49             49       49.00000      0.000000   \n",
       "132153          24438              0        0.00000      0.000000   \n",
       "92777               3            498      249.00000    282.842713   \n",
       "\n",
       "         Fwd IAT Max   Fwd IAT Min  Bwd IAT Total   Bwd IAT Mean  \\\n",
       "208995         14132             3              0        0.00000   \n",
       "140912        131192           166        2239897    77237.82759   \n",
       "572234            49            49              0        0.00000   \n",
       "132153             0             0              0        0.00000   \n",
       "92777            449            49         720713   144142.60000   \n",
       "\n",
       "         Bwd IAT Std   Bwd IAT Max   Bwd IAT Min  Fwd PSH Flags  \\\n",
       "208995        0.0000             0             0              0   \n",
       "140912   306397.1551       1650704             3              0   \n",
       "572234        0.0000             0             0              0   \n",
       "132153        0.0000             0             0              0   \n",
       "92777    321889.5272        719956             3              0   \n",
       "\n",
       "         Bwd PSH Flags   Bwd URG Flags  Fwd Packets/s   Bwd Packets/s  \\\n",
       "208995               0               0     212.239123        0.000000   \n",
       "140912               0               0      10.126407       12.658009   \n",
       "572234               0               0   40816.326530        0.000000   \n",
       "132153               0               0      40.919879       40.919879   \n",
       "92777                0               0       4.162273        8.324546   \n",
       "\n",
       "         Min Packet Length   Max Packet Length   Packet Length Mean  \\\n",
       "208995                   0                   6             3.000000   \n",
       "140912                   0                4230          1000.490909   \n",
       "572234                   6                   6             6.000000   \n",
       "132153                  47                  79            57.666667   \n",
       "92777                    0                5840          1163.300000   \n",
       "\n",
       "         Packet Length Std   Packet Length Variance  FIN Flag Count  \\\n",
       "208995            3.464102             1.200000e+01               0   \n",
       "140912         1204.614167             1.451095e+06               0   \n",
       "572234            0.000000             0.000000e+00               1   \n",
       "132153           18.475209             3.413333e+02               0   \n",
       "92777          2138.329153             4.572452e+06               0   \n",
       "\n",
       "         SYN Flag Count   RST Flag Count   PSH Flag Count   ACK Flag Count  \\\n",
       "208995                0                0                0                1   \n",
       "140912                0                0                1                0   \n",
       "572234                0                0                0                0   \n",
       "132153                0                0                0                0   \n",
       "92777                 0                0                1                0   \n",
       "\n",
       "         URG Flag Count   CWE Flag Count   Down/Up Ratio  \\\n",
       "208995                0                0               0   \n",
       "140912                0                0               1   \n",
       "572234                0                0               0   \n",
       "132153                0                0               1   \n",
       "92777                 0                0               2   \n",
       "\n",
       "         Average Packet Size   Avg Fwd Segment Size   Avg Bwd Segment Size  \\\n",
       "208995              4.000000               4.000000               0.000000   \n",
       "140912           1019.018519              34.625000            1806.533333   \n",
       "572234              9.000000               6.000000               0.000000   \n",
       "132153             86.500000              47.000000              79.000000   \n",
       "92777            1292.555556               8.666667            1934.500000   \n",
       "\n",
       "         Fwd Header Length.1  Fwd Avg Bytes/Bulk   Fwd Avg Packets/Bulk  \\\n",
       "208995                    72                   0                      0   \n",
       "140912                   492                   0                      0   \n",
       "572234                    40                   0                      0   \n",
       "132153                    20                   0                      0   \n",
       "92777                     72                   0                      0   \n",
       "\n",
       "         Fwd Avg Bulk Rate   Bwd Avg Bytes/Bulk   Bwd Avg Packets/Bulk  \\\n",
       "208995                   0                    0                      0   \n",
       "140912                   0                    0                      0   \n",
       "572234                   0                    0                      0   \n",
       "132153                   0                    0                      0   \n",
       "92777                    0                    0                      0   \n",
       "\n",
       "        Bwd Avg Bulk Rate  Subflow Fwd Packets   Subflow Fwd Bytes  \\\n",
       "208995                  0                    3                  12   \n",
       "140912                  0                   24                 831   \n",
       "572234                  0                    2                  12   \n",
       "132153                  0                    1                  47   \n",
       "92777                   0                    3                  26   \n",
       "\n",
       "         Subflow Bwd Packets   Init_Win_bytes_backward  Active Mean  \\\n",
       "208995                     0                        -1          0.0   \n",
       "140912                    30                       889          0.0   \n",
       "572234                     0                        -1          0.0   \n",
       "132153                     1                        -1          0.0   \n",
       "92777                      6                       229          0.0   \n",
       "\n",
       "         Active Std   Active Min  Idle Mean   Idle Std   Idle Max   Idle Min  \n",
       "208995          0.0            0        0.0        0.0          0          0  \n",
       "140912          0.0            0        0.0        0.0          0          0  \n",
       "572234          0.0            0        0.0        0.0          0          0  \n",
       "132153          0.0            0        0.0        0.0          0          0  \n",
       "92777           0.0            0        0.0        0.0          0          0  "
      ]
     },
     "execution_count": 37,
     "metadata": {},
     "output_type": "execute_result"
    }
   ],
   "source": [
    "x_test.head()"
   ]
  },
  {
   "cell_type": "code",
   "execution_count": 38,
   "metadata": {
    "colab": {
     "base_uri": "https://localhost:8080/",
     "height": 235
    },
    "id": "ZEVHNIZ1EAgF",
    "outputId": "d15cfb5d-fd52-4746-8774-888d6f932d4f"
   },
   "outputs": [],
   "source": [
    "from sklearn.ensemble import RandomForestRegressor\n",
    "from sklearn.model_selection import train_test_split\n",
    "import pandas as pd\n",
    "import numpy as np\n",
    "\n",
    "# Load\n",
    "\n",
    "\n",
    "# Create the random forest model\n",
    "rf_model = RandomForestRegressor(n_estimators=100, max_features='sqrt', random_state=42)\n",
    "\n",
    "# Fit the model on the training data\n",
    "rf_model.fit(x_train, y_train)\n",
    "\n",
    "# Predict on the testing data\n",
    "y_pred = rf_model.predict(x_test)\n"
   ]
  },
  {
   "cell_type": "code",
   "execution_count": 39,
   "metadata": {
    "colab": {
     "base_uri": "https://localhost:8080/"
    },
    "id": "eo8_pnmYJM_V",
    "outputId": "3acb2fc5-a84b-4b83-8a9f-a94fa907d3ec"
   },
   "outputs": [
    {
     "name": "stdout",
     "output_type": "stream",
     "text": [
      "Mean squared error: 0.00\n",
      "R-squared score: 0.99\n"
     ]
    }
   ],
   "source": [
    "# Calculate the mean squared error (MSE) and R-squared score\n",
    "mse = np.mean((y_pred - y_test)**2)\n",
    "r2 = rf_model.score(x_test, y_test)\n",
    "\n",
    "# Print the results\n",
    "print(f'Mean squared error: {mse:.2f}')\n",
    "print(f'R-squared score: {r2:.2f}')"
   ]
  },
  {
   "cell_type": "code",
   "execution_count": 40,
   "metadata": {
    "colab": {
     "base_uri": "https://localhost:8080/"
    },
    "id": "DJnb_CdFJq1A",
    "outputId": "43a1d8b7-1fcd-4b5e-9a9d-f70f2903d9fe"
   },
   "outputs": [
    {
     "name": "stdout",
     "output_type": "stream",
     "text": [
      "[0. 0. 0. ... 0. 0. 0.]\n",
      "[0 0 0 ... 0 0 0]\n"
     ]
    }
   ],
   "source": [
    "print(y_pred)\n",
    "y_predbin = (y_pred > 0.5).astype(int)\n",
    "print(y_predbin)"
   ]
  },
  {
   "cell_type": "code",
   "execution_count": 46,
   "metadata": {
    "colab": {
     "base_uri": "https://localhost:8080/"
    },
    "id": "nZJh25YXEY93",
    "outputId": "d82b6b9d-5b26-4031-f159-9d7425578731"
   },
   "outputs": [
    {
     "name": "stdout",
     "output_type": "stream",
     "text": [
      "Accuracy: 0.998133925737861\n",
      "Precision: 0.9954524912439272\n",
      "Recall: 0.9934881885324462\n",
      "F1 score: 0.994469369903214\n",
      "Confusion matrix:\n",
      " [[523295    483]\n",
      " [   693 105729]]\n"
     ]
    }
   ],
   "source": [
    "from sklearn.metrics import accuracy_score, precision_score, recall_score, f1_score, confusion_matrix\n",
    "\n",
    "# Compute the evaluation metrics\n",
    "accuracy = accuracy_score(y_test, y_predbin)\n",
    "precision = precision_score(y_test, y_predbin)\n",
    "recall = recall_score(y_test, y_predbin)\n",
    "f1 = f1_score(y_test,y_predbin)\n",
    "confusion_mat = confusion_matrix(y_test, y_predbin)\n",
    "\n",
    "# Print the results\n",
    "print('Accuracy:', accuracy)\n",
    "print('Precision:', precision)\n",
    "print('Recall:', recall)\n",
    "print('F1 score:', f1)\n",
    "print('Confusion matrix:\\n', confusion_mat)\n"
   ]
  },
  {
   "cell_type": "code",
   "execution_count": 47,
   "metadata": {},
   "outputs": [],
   "source": [
    "path='D:\\Python\\TheQuibits\\Zero-shield-main\\Zero-shield-main_main - Copy\\ml_models\\saved_models'\n",
    "os.chdir(path)"
   ]
  },
  {
   "cell_type": "code",
   "execution_count": 48,
   "metadata": {},
   "outputs": [],
   "source": [
    "import pickle\n",
    "with open(\"RandomForest\", 'wb') as file:\n",
    "    pickle.dump(rf_model, file)\n",
    "file.close()"
   ]
  },
  {
   "cell_type": "code",
   "execution_count": null,
   "metadata": {},
   "outputs": [],
   "source": []
  }
 ],
 "metadata": {
  "colab": {
   "provenance": []
  },
  "kernelspec": {
   "display_name": "Python 3 (ipykernel)",
   "language": "python",
   "name": "python3"
  },
  "language_info": {
   "codemirror_mode": {
    "name": "ipython",
    "version": 3
   },
   "file_extension": ".py",
   "mimetype": "text/x-python",
   "name": "python",
   "nbconvert_exporter": "python",
   "pygments_lexer": "ipython3",
   "version": "3.10.8"
  }
 },
 "nbformat": 4,
 "nbformat_minor": 1
}
